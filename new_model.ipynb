{
 "cells": [
  {
   "cell_type": "code",
   "execution_count": 1,
   "metadata": {},
   "outputs": [],
   "source": [
    "import pandas as pd\n",
    "import numpy as np\n",
    "import matplotlib.pyplot as plt\n",
    "import seaborn as sns\n",
    "from tqdm.notebook import tqdm\n",
    "import pyarrow.parquet as pq"
   ]
  },
  {
   "cell_type": "code",
   "execution_count": 2,
   "metadata": {},
   "outputs": [
    {
     "name": "stdout",
     "output_type": "stream",
     "text": [
      "Collecting kaggle\n",
      "  Using cached kaggle-1.6.17-py3-none-any.whl\n",
      "Requirement already satisfied: six>=1.10 in c:\\users\\kabir\\.vscode\\code files\\ctp-ds-project\\.venv\\lib\\site-packages (from kaggle) (1.16.0)\n",
      "Requirement already satisfied: certifi>=2023.7.22 in c:\\users\\kabir\\.vscode\\code files\\ctp-ds-project\\.venv\\lib\\site-packages (from kaggle) (2024.8.30)\n",
      "Requirement already satisfied: python-dateutil in c:\\users\\kabir\\.vscode\\code files\\ctp-ds-project\\.venv\\lib\\site-packages (from kaggle) (2.9.0.post0)\n",
      "Requirement already satisfied: requests in c:\\users\\kabir\\.vscode\\code files\\ctp-ds-project\\.venv\\lib\\site-packages (from kaggle) (2.32.3)\n",
      "Requirement already satisfied: tqdm in c:\\users\\kabir\\.vscode\\code files\\ctp-ds-project\\.venv\\lib\\site-packages (from kaggle) (4.66.5)\n",
      "Collecting python-slugify (from kaggle)\n",
      "  Using cached python_slugify-8.0.4-py2.py3-none-any.whl.metadata (8.5 kB)\n",
      "Requirement already satisfied: urllib3 in c:\\users\\kabir\\.vscode\\code files\\ctp-ds-project\\.venv\\lib\\site-packages (from kaggle) (2.2.3)\n",
      "Requirement already satisfied: bleach in c:\\users\\kabir\\.vscode\\code files\\ctp-ds-project\\.venv\\lib\\site-packages (from kaggle) (6.1.0)\n",
      "Requirement already satisfied: webencodings in c:\\users\\kabir\\.vscode\\code files\\ctp-ds-project\\.venv\\lib\\site-packages (from bleach->kaggle) (0.5.1)\n",
      "Collecting text-unidecode>=1.3 (from python-slugify->kaggle)\n",
      "  Using cached text_unidecode-1.3-py2.py3-none-any.whl.metadata (2.4 kB)\n",
      "Requirement already satisfied: charset-normalizer<4,>=2 in c:\\users\\kabir\\.vscode\\code files\\ctp-ds-project\\.venv\\lib\\site-packages (from requests->kaggle) (3.3.2)\n",
      "Requirement already satisfied: idna<4,>=2.5 in c:\\users\\kabir\\.vscode\\code files\\ctp-ds-project\\.venv\\lib\\site-packages (from requests->kaggle) (3.7)\n",
      "Requirement already satisfied: colorama in c:\\users\\kabir\\.vscode\\code files\\ctp-ds-project\\.venv\\lib\\site-packages (from tqdm->kaggle) (0.4.6)\n",
      "Using cached python_slugify-8.0.4-py2.py3-none-any.whl (10 kB)\n",
      "Using cached text_unidecode-1.3-py2.py3-none-any.whl (78 kB)\n",
      "Installing collected packages: text-unidecode, python-slugify, kaggle\n",
      "Successfully installed kaggle-1.6.17 python-slugify-8.0.4 text-unidecode-1.3\n"
     ]
    },
    {
     "name": "stderr",
     "output_type": "stream",
     "text": [
      "\n",
      "[notice] A new release of pip is available: 24.2 -> 24.3.1\n",
      "[notice] To update, run: python.exe -m pip install --upgrade pip\n"
     ]
    }
   ],
   "source": [
    "!pip install kaggle"
   ]
  },
  {
   "cell_type": "code",
   "execution_count": 5,
   "metadata": {},
   "outputs": [],
   "source": [
    "BASE_DIR = 'data/asl-signs/'\n",
    "train = pd.read_csv(f'{BASE_DIR}/train.csv')\n",
    "xyz=pd.read_parquet(f'{BASE_DIR}/train_landmark_files/16069/695046.parquet') #note you will need the wlasl data set for this step. "
   ]
  },
  {
   "cell_type": "code",
   "execution_count": 4,
   "metadata": {},
   "outputs": [
    {
     "data": {
      "text/html": [
       "<div>\n",
       "<style scoped>\n",
       "    .dataframe tbody tr th:only-of-type {\n",
       "        vertical-align: middle;\n",
       "    }\n",
       "\n",
       "    .dataframe tbody tr th {\n",
       "        vertical-align: top;\n",
       "    }\n",
       "\n",
       "    .dataframe thead th {\n",
       "        text-align: right;\n",
       "    }\n",
       "</style>\n",
       "<table border=\"1\" class=\"dataframe\">\n",
       "  <thead>\n",
       "    <tr style=\"text-align: right;\">\n",
       "      <th></th>\n",
       "      <th>frame</th>\n",
       "      <th>row_id</th>\n",
       "      <th>type</th>\n",
       "      <th>landmark_index</th>\n",
       "      <th>x</th>\n",
       "      <th>y</th>\n",
       "      <th>z</th>\n",
       "    </tr>\n",
       "  </thead>\n",
       "  <tbody>\n",
       "    <tr>\n",
       "      <th>0</th>\n",
       "      <td>105</td>\n",
       "      <td>105-face-0</td>\n",
       "      <td>face</td>\n",
       "      <td>0</td>\n",
       "      <td>0.459484</td>\n",
       "      <td>0.450040</td>\n",
       "      <td>-0.048297</td>\n",
       "    </tr>\n",
       "    <tr>\n",
       "      <th>1</th>\n",
       "      <td>105</td>\n",
       "      <td>105-face-1</td>\n",
       "      <td>face</td>\n",
       "      <td>1</td>\n",
       "      <td>0.451732</td>\n",
       "      <td>0.401943</td>\n",
       "      <td>-0.066326</td>\n",
       "    </tr>\n",
       "    <tr>\n",
       "      <th>2</th>\n",
       "      <td>105</td>\n",
       "      <td>105-face-2</td>\n",
       "      <td>face</td>\n",
       "      <td>2</td>\n",
       "      <td>0.452219</td>\n",
       "      <td>0.418714</td>\n",
       "      <td>-0.042678</td>\n",
       "    </tr>\n",
       "    <tr>\n",
       "      <th>3</th>\n",
       "      <td>105</td>\n",
       "      <td>105-face-3</td>\n",
       "      <td>face</td>\n",
       "      <td>3</td>\n",
       "      <td>0.438481</td>\n",
       "      <td>0.372725</td>\n",
       "      <td>-0.040756</td>\n",
       "    </tr>\n",
       "    <tr>\n",
       "      <th>4</th>\n",
       "      <td>105</td>\n",
       "      <td>105-face-4</td>\n",
       "      <td>face</td>\n",
       "      <td>4</td>\n",
       "      <td>0.450793</td>\n",
       "      <td>0.390858</td>\n",
       "      <td>-0.067166</td>\n",
       "    </tr>\n",
       "  </tbody>\n",
       "</table>\n",
       "</div>"
      ],
      "text/plain": [
       "   frame      row_id  type  landmark_index         x         y         z\n",
       "0    105  105-face-0  face               0  0.459484  0.450040 -0.048297\n",
       "1    105  105-face-1  face               1  0.451732  0.401943 -0.066326\n",
       "2    105  105-face-2  face               2  0.452219  0.418714 -0.042678\n",
       "3    105  105-face-3  face               3  0.438481  0.372725 -0.040756\n",
       "4    105  105-face-4  face               4  0.450793  0.390858 -0.067166"
      ]
     },
     "execution_count": 4,
     "metadata": {},
     "output_type": "execute_result"
    }
   ],
   "source": [
    "xyz.head() #checking data"
   ]
  },
  {
   "cell_type": "code",
   "execution_count": 5,
   "metadata": {},
   "outputs": [
    {
     "data": {
      "text/plain": [
       "Index(['frame', 'row_id', 'type', 'landmark_index', 'x', 'y', 'z'], dtype='object')"
      ]
     },
     "execution_count": 5,
     "metadata": {},
     "output_type": "execute_result"
    }
   ],
   "source": [
    "xyz.columns"
   ]
  },
  {
   "cell_type": "code",
   "execution_count": 6,
   "metadata": {},
   "outputs": [
    {
     "data": {
      "text/plain": [
       "(21720, 7)"
      ]
     },
     "execution_count": 6,
     "metadata": {},
     "output_type": "execute_result"
    }
   ],
   "source": [
    "xyz.shape"
   ]
  },
  {
   "cell_type": "code",
   "execution_count": 7,
   "metadata": {},
   "outputs": [
    {
     "data": {
      "text/html": [
       "<div>\n",
       "<style scoped>\n",
       "    .dataframe tbody tr th:only-of-type {\n",
       "        vertical-align: middle;\n",
       "    }\n",
       "\n",
       "    .dataframe tbody tr th {\n",
       "        vertical-align: top;\n",
       "    }\n",
       "\n",
       "    .dataframe thead th {\n",
       "        text-align: right;\n",
       "    }\n",
       "</style>\n",
       "<table border=\"1\" class=\"dataframe\">\n",
       "  <thead>\n",
       "    <tr style=\"text-align: right;\">\n",
       "      <th></th>\n",
       "      <th>path</th>\n",
       "      <th>participant_id</th>\n",
       "      <th>sequence_id</th>\n",
       "      <th>sign</th>\n",
       "    </tr>\n",
       "  </thead>\n",
       "  <tbody>\n",
       "    <tr>\n",
       "      <th>87142</th>\n",
       "      <td>train_landmark_files/16069/695046.parquet</td>\n",
       "      <td>16069</td>\n",
       "      <td>695046</td>\n",
       "      <td>mad</td>\n",
       "    </tr>\n",
       "  </tbody>\n",
       "</table>\n",
       "</div>"
      ],
      "text/plain": [
       "                                            path  participant_id  sequence_id  \\\n",
       "87142  train_landmark_files/16069/695046.parquet           16069       695046   \n",
       "\n",
       "      sign  \n",
       "87142  mad  "
      ]
     },
     "execution_count": 7,
     "metadata": {},
     "output_type": "execute_result"
    }
   ],
   "source": [
    "train.query('sequence_id == 695046')"
   ]
  },
  {
   "cell_type": "code",
   "execution_count": 8,
   "metadata": {},
   "outputs": [
    {
     "data": {
      "image/png": "[encoded data removed]",
      "text/plain": [
       "<Figure size 800x800 with 1 Axes>"
      ]
     },
     "metadata": {},
     "output_type": "display_data"
    }
   ],
   "source": [
    "fig, ax = plt.subplots(figsize=(8, 8))\n",
    "train[\"sign\"].value_counts().head(50).sort_values(ascending=True).plot( #this is to understand the data we're working with by ranking the top 50 signs in the training dataset\n",
    "    kind=\"barh\", ax=ax, title=\"Top 50 Signs in Training Dataset\"\n",
    ")\n",
    "ax.set_xlabel(\"Number of Training Examples\")\n",
    "plt.show()"
   ]
  },
  {
   "cell_type": "code",
   "execution_count": 9,
   "metadata": {},
   "outputs": [
    {
     "data": {
      "image/png": "[encoded data removed]",
      "text/plain": [
       "<Figure size 800x800 with 1 Axes>"
      ]
     },
     "metadata": {},
     "output_type": "display_data"
    }
   ],
   "source": [
    "fig, ax = plt.subplots(figsize=(8, 8))\n",
    "train[\"sign\"].value_counts().tail(50).sort_values(ascending=True).plot(\n",
    "    kind=\"barh\", ax=ax, title=\"Bottom 50 Signs in Training Dataset\" #same as before but the bottom 50 signs\n",
    ")\n",
    "ax.set_xlabel(\"Number of Training Examples\")\n",
    "plt.show()"
   ]
  },
  {
   "cell_type": "code",
   "execution_count": 10,
   "metadata": {},
   "outputs": [
    {
     "data": {
      "text/html": [
       "<div>\n",
       "<style scoped>\n",
       "    .dataframe tbody tr th:only-of-type {\n",
       "        vertical-align: middle;\n",
       "    }\n",
       "\n",
       "    .dataframe tbody tr th {\n",
       "        vertical-align: top;\n",
       "    }\n",
       "\n",
       "    .dataframe thead th {\n",
       "        text-align: right;\n",
       "    }\n",
       "</style>\n",
       "<table border=\"1\" class=\"dataframe\">\n",
       "  <thead>\n",
       "    <tr style=\"text-align: right;\">\n",
       "      <th></th>\n",
       "      <th>frame</th>\n",
       "      <th>row_id</th>\n",
       "      <th>type</th>\n",
       "      <th>landmark_index</th>\n",
       "      <th>x</th>\n",
       "      <th>y</th>\n",
       "      <th>z</th>\n",
       "    </tr>\n",
       "  </thead>\n",
       "  <tbody>\n",
       "    <tr>\n",
       "      <th>0</th>\n",
       "      <td>35</td>\n",
       "      <td>35-face-0</td>\n",
       "      <td>face</td>\n",
       "      <td>0</td>\n",
       "      <td>0.556969</td>\n",
       "      <td>0.431919</td>\n",
       "      <td>-0.039614</td>\n",
       "    </tr>\n",
       "    <tr>\n",
       "      <th>1</th>\n",
       "      <td>35</td>\n",
       "      <td>35-face-1</td>\n",
       "      <td>face</td>\n",
       "      <td>1</td>\n",
       "      <td>0.548688</td>\n",
       "      <td>0.394788</td>\n",
       "      <td>-0.077306</td>\n",
       "    </tr>\n",
       "    <tr>\n",
       "      <th>2</th>\n",
       "      <td>35</td>\n",
       "      <td>35-face-2</td>\n",
       "      <td>face</td>\n",
       "      <td>2</td>\n",
       "      <td>0.548806</td>\n",
       "      <td>0.405519</td>\n",
       "      <td>-0.040327</td>\n",
       "    </tr>\n",
       "    <tr>\n",
       "      <th>3</th>\n",
       "      <td>35</td>\n",
       "      <td>35-face-3</td>\n",
       "      <td>face</td>\n",
       "      <td>3</td>\n",
       "      <td>0.531849</td>\n",
       "      <td>0.356302</td>\n",
       "      <td>-0.058683</td>\n",
       "    </tr>\n",
       "    <tr>\n",
       "      <th>4</th>\n",
       "      <td>35</td>\n",
       "      <td>35-face-4</td>\n",
       "      <td>face</td>\n",
       "      <td>4</td>\n",
       "      <td>0.547539</td>\n",
       "      <td>0.382894</td>\n",
       "      <td>-0.082544</td>\n",
       "    </tr>\n",
       "  </tbody>\n",
       "</table>\n",
       "</div>"
      ],
      "text/plain": [
       "   frame     row_id  type  landmark_index         x         y         z\n",
       "0     35  35-face-0  face               0  0.556969  0.431919 -0.039614\n",
       "1     35  35-face-1  face               1  0.548688  0.394788 -0.077306\n",
       "2     35  35-face-2  face               2  0.548806  0.405519 -0.040327\n",
       "3     35  35-face-3  face               3  0.531849  0.356302 -0.058683\n",
       "4     35  35-face-4  face               4  0.547539  0.382894 -0.082544"
      ]
     },
     "execution_count": 10,
     "metadata": {},
     "output_type": "execute_result"
    }
   ],
   "source": [
    "example_fn = train.query('sign == \"listen\"')[\"path\"].values[0]\n",
    "\n",
    "example_landmark = pd.read_parquet(f\"{BASE_DIR}/{example_fn}\")\n",
    "example_landmark.head()"
   ]
  },
  {
   "cell_type": "code",
   "execution_count": 11,
   "metadata": {},
   "outputs": [
    {
     "name": "stdout",
     "output_type": "stream",
     "text": [
      "The file has 6 unique frames and 4 unique types: ['face' 'left_hand' 'pose' 'right_hand']\n"
     ]
    }
   ],
   "source": [
    "unique_frames = example_landmark[\"frame\"].nunique()\n",
    "unique_types = example_landmark[\"type\"].nunique()\n",
    "types_in_video = example_landmark[\"type\"].unique()\n",
    "print(\n",
    "    f\"The file has {unique_frames} unique frames and {unique_types} unique types: {types_in_video}\"\n",
    ")"
   ]
  },
  {
   "cell_type": "code",
   "execution_count": 12,
   "metadata": {},
   "outputs": [
    {
     "data": {
      "application/vnd.jupyter.widget-view+json": {
       "model_id": "3326e8b26a244e898db44879f661a2bc",
       "version_major": 2,
       "version_minor": 0
      },
      "text/plain": [
       "  0%|          | 0/94477 [00:00<?, ?it/s]"
      ]
     },
     "metadata": {},
     "output_type": "display_data"
    },
    {
     "ename": "KeyboardInterrupt",
     "evalue": "",
     "output_type": "error",
     "traceback": [
      "\u001b[1;31m---------------------------------------------------------------------------\u001b[0m",
      "\u001b[1;31mKeyboardInterrupt\u001b[0m                         Traceback (most recent call last)",
      "Cell \u001b[1;32mIn[12], line 6\u001b[0m\n\u001b[0;32m      4\u001b[0m \u001b[38;5;28;01mfor\u001b[39;00m i, d \u001b[38;5;129;01min\u001b[39;00m tqdm(train\u001b[38;5;241m.\u001b[39miterrows(), total\u001b[38;5;241m=\u001b[39m\u001b[38;5;28mlen\u001b[39m(train)):\n\u001b[0;32m      5\u001b[0m     file_path \u001b[38;5;241m=\u001b[39m d[\u001b[38;5;124m\"\u001b[39m\u001b[38;5;124mpath\u001b[39m\u001b[38;5;124m\"\u001b[39m]\n\u001b[1;32m----> 6\u001b[0m     example_landmark \u001b[38;5;241m=\u001b[39m \u001b[43mpd\u001b[49m\u001b[38;5;241;43m.\u001b[39;49m\u001b[43mread_parquet\u001b[49m\u001b[43m(\u001b[49m\u001b[38;5;124;43mf\u001b[39;49m\u001b[38;5;124;43m\"\u001b[39;49m\u001b[38;5;132;43;01m{\u001b[39;49;00m\u001b[43mBASE_DIR\u001b[49m\u001b[38;5;132;43;01m}\u001b[39;49;00m\u001b[38;5;124;43m/\u001b[39;49m\u001b[38;5;132;43;01m{\u001b[39;49;00m\u001b[43mfile_path\u001b[49m\u001b[38;5;132;43;01m}\u001b[39;49;00m\u001b[38;5;124;43m\"\u001b[39;49m\u001b[43m)\u001b[49m\n\u001b[0;32m      7\u001b[0m     \u001b[38;5;66;03m# Get the number of landmarks with x,y,z data per type\u001b[39;00m\n\u001b[0;32m      8\u001b[0m     meta \u001b[38;5;241m=\u001b[39m (\n\u001b[0;32m      9\u001b[0m         example_landmark\u001b[38;5;241m.\u001b[39mdropna(subset\u001b[38;5;241m=\u001b[39m[\u001b[38;5;124m\"\u001b[39m\u001b[38;5;124mx\u001b[39m\u001b[38;5;124m\"\u001b[39m, \u001b[38;5;124m\"\u001b[39m\u001b[38;5;124my\u001b[39m\u001b[38;5;124m\"\u001b[39m, \u001b[38;5;124m\"\u001b[39m\u001b[38;5;124mz\u001b[39m\u001b[38;5;124m\"\u001b[39m])[\u001b[38;5;124m\"\u001b[39m\u001b[38;5;124mtype\u001b[39m\u001b[38;5;124m\"\u001b[39m]\u001b[38;5;241m.\u001b[39mvalue_counts()\u001b[38;5;241m.\u001b[39mto_dict()\n\u001b[0;32m     10\u001b[0m     )\n",
      "File \u001b[1;32mc:\\Users\\kabir\\.vscode\\Code Files\\ctp-ds-project\\.venv\\Lib\\site-packages\\pandas\\io\\parquet.py:667\u001b[0m, in \u001b[0;36mread_parquet\u001b[1;34m(path, engine, columns, storage_options, use_nullable_dtypes, dtype_backend, filesystem, filters, **kwargs)\u001b[0m\n\u001b[0;32m    664\u001b[0m     use_nullable_dtypes \u001b[38;5;241m=\u001b[39m \u001b[38;5;28;01mFalse\u001b[39;00m\n\u001b[0;32m    665\u001b[0m check_dtype_backend(dtype_backend)\n\u001b[1;32m--> 667\u001b[0m \u001b[38;5;28;01mreturn\u001b[39;00m \u001b[43mimpl\u001b[49m\u001b[38;5;241;43m.\u001b[39;49m\u001b[43mread\u001b[49m\u001b[43m(\u001b[49m\n\u001b[0;32m    668\u001b[0m \u001b[43m    \u001b[49m\u001b[43mpath\u001b[49m\u001b[43m,\u001b[49m\n\u001b[0;32m    669\u001b[0m \u001b[43m    \u001b[49m\u001b[43mcolumns\u001b[49m\u001b[38;5;241;43m=\u001b[39;49m\u001b[43mcolumns\u001b[49m\u001b[43m,\u001b[49m\n\u001b[0;32m    670\u001b[0m \u001b[43m    \u001b[49m\u001b[43mfilters\u001b[49m\u001b[38;5;241;43m=\u001b[39;49m\u001b[43mfilters\u001b[49m\u001b[43m,\u001b[49m\n\u001b[0;32m    671\u001b[0m \u001b[43m    \u001b[49m\u001b[43mstorage_options\u001b[49m\u001b[38;5;241;43m=\u001b[39;49m\u001b[43mstorage_options\u001b[49m\u001b[43m,\u001b[49m\n\u001b[0;32m    672\u001b[0m \u001b[43m    \u001b[49m\u001b[43muse_nullable_dtypes\u001b[49m\u001b[38;5;241;43m=\u001b[39;49m\u001b[43muse_nullable_dtypes\u001b[49m\u001b[43m,\u001b[49m\n\u001b[0;32m    673\u001b[0m \u001b[43m    \u001b[49m\u001b[43mdtype_backend\u001b[49m\u001b[38;5;241;43m=\u001b[39;49m\u001b[43mdtype_backend\u001b[49m\u001b[43m,\u001b[49m\n\u001b[0;32m    674\u001b[0m \u001b[43m    \u001b[49m\u001b[43mfilesystem\u001b[49m\u001b[38;5;241;43m=\u001b[39;49m\u001b[43mfilesystem\u001b[49m\u001b[43m,\u001b[49m\n\u001b[0;32m    675\u001b[0m \u001b[43m    \u001b[49m\u001b[38;5;241;43m*\u001b[39;49m\u001b[38;5;241;43m*\u001b[39;49m\u001b[43mkwargs\u001b[49m\u001b[43m,\u001b[49m\n\u001b[0;32m    676\u001b[0m \u001b[43m\u001b[49m\u001b[43m)\u001b[49m\n",
      "File \u001b[1;32mc:\\Users\\kabir\\.vscode\\Code Files\\ctp-ds-project\\.venv\\Lib\\site-packages\\pandas\\io\\parquet.py:267\u001b[0m, in \u001b[0;36mPyArrowImpl.read\u001b[1;34m(self, path, columns, filters, use_nullable_dtypes, dtype_backend, storage_options, filesystem, **kwargs)\u001b[0m\n\u001b[0;32m    264\u001b[0m \u001b[38;5;28;01mif\u001b[39;00m manager \u001b[38;5;241m==\u001b[39m \u001b[38;5;124m\"\u001b[39m\u001b[38;5;124marray\u001b[39m\u001b[38;5;124m\"\u001b[39m:\n\u001b[0;32m    265\u001b[0m     to_pandas_kwargs[\u001b[38;5;124m\"\u001b[39m\u001b[38;5;124msplit_blocks\u001b[39m\u001b[38;5;124m\"\u001b[39m] \u001b[38;5;241m=\u001b[39m \u001b[38;5;28;01mTrue\u001b[39;00m  \u001b[38;5;66;03m# type: ignore[assignment]\u001b[39;00m\n\u001b[1;32m--> 267\u001b[0m path_or_handle, handles, filesystem \u001b[38;5;241m=\u001b[39m \u001b[43m_get_path_or_handle\u001b[49m\u001b[43m(\u001b[49m\n\u001b[0;32m    268\u001b[0m \u001b[43m    \u001b[49m\u001b[43mpath\u001b[49m\u001b[43m,\u001b[49m\n\u001b[0;32m    269\u001b[0m \u001b[43m    \u001b[49m\u001b[43mfilesystem\u001b[49m\u001b[43m,\u001b[49m\n\u001b[0;32m    270\u001b[0m \u001b[43m    \u001b[49m\u001b[43mstorage_options\u001b[49m\u001b[38;5;241;43m=\u001b[39;49m\u001b[43mstorage_options\u001b[49m\u001b[43m,\u001b[49m\n\u001b[0;32m    271\u001b[0m \u001b[43m    \u001b[49m\u001b[43mmode\u001b[49m\u001b[38;5;241;43m=\u001b[39;49m\u001b[38;5;124;43m\"\u001b[39;49m\u001b[38;5;124;43mrb\u001b[39;49m\u001b[38;5;124;43m\"\u001b[39;49m\u001b[43m,\u001b[49m\n\u001b[0;32m    272\u001b[0m \u001b[43m\u001b[49m\u001b[43m)\u001b[49m\n\u001b[0;32m    273\u001b[0m \u001b[38;5;28;01mtry\u001b[39;00m:\n\u001b[0;32m    274\u001b[0m     pa_table \u001b[38;5;241m=\u001b[39m \u001b[38;5;28mself\u001b[39m\u001b[38;5;241m.\u001b[39mapi\u001b[38;5;241m.\u001b[39mparquet\u001b[38;5;241m.\u001b[39mread_table(\n\u001b[0;32m    275\u001b[0m         path_or_handle,\n\u001b[0;32m    276\u001b[0m         columns\u001b[38;5;241m=\u001b[39mcolumns,\n\u001b[1;32m   (...)\u001b[0m\n\u001b[0;32m    279\u001b[0m         \u001b[38;5;241m*\u001b[39m\u001b[38;5;241m*\u001b[39mkwargs,\n\u001b[0;32m    280\u001b[0m     )\n",
      "File \u001b[1;32mc:\\Users\\kabir\\.vscode\\Code Files\\ctp-ds-project\\.venv\\Lib\\site-packages\\pandas\\io\\parquet.py:140\u001b[0m, in \u001b[0;36m_get_path_or_handle\u001b[1;34m(path, fs, storage_options, mode, is_dir)\u001b[0m\n\u001b[0;32m    130\u001b[0m handles \u001b[38;5;241m=\u001b[39m \u001b[38;5;28;01mNone\u001b[39;00m\n\u001b[0;32m    131\u001b[0m \u001b[38;5;28;01mif\u001b[39;00m (\n\u001b[0;32m    132\u001b[0m     \u001b[38;5;129;01mnot\u001b[39;00m fs\n\u001b[0;32m    133\u001b[0m     \u001b[38;5;129;01mand\u001b[39;00m \u001b[38;5;129;01mnot\u001b[39;00m is_dir\n\u001b[1;32m   (...)\u001b[0m\n\u001b[0;32m    138\u001b[0m     \u001b[38;5;66;03m# fsspec resources can also point to directories\u001b[39;00m\n\u001b[0;32m    139\u001b[0m     \u001b[38;5;66;03m# this branch is used for example when reading from non-fsspec URLs\u001b[39;00m\n\u001b[1;32m--> 140\u001b[0m     handles \u001b[38;5;241m=\u001b[39m \u001b[43mget_handle\u001b[49m\u001b[43m(\u001b[49m\n\u001b[0;32m    141\u001b[0m \u001b[43m        \u001b[49m\u001b[43mpath_or_handle\u001b[49m\u001b[43m,\u001b[49m\u001b[43m \u001b[49m\u001b[43mmode\u001b[49m\u001b[43m,\u001b[49m\u001b[43m \u001b[49m\u001b[43mis_text\u001b[49m\u001b[38;5;241;43m=\u001b[39;49m\u001b[38;5;28;43;01mFalse\u001b[39;49;00m\u001b[43m,\u001b[49m\u001b[43m \u001b[49m\u001b[43mstorage_options\u001b[49m\u001b[38;5;241;43m=\u001b[39;49m\u001b[43mstorage_options\u001b[49m\n\u001b[0;32m    142\u001b[0m \u001b[43m    \u001b[49m\u001b[43m)\u001b[49m\n\u001b[0;32m    143\u001b[0m     fs \u001b[38;5;241m=\u001b[39m \u001b[38;5;28;01mNone\u001b[39;00m\n\u001b[0;32m    144\u001b[0m     path_or_handle \u001b[38;5;241m=\u001b[39m handles\u001b[38;5;241m.\u001b[39mhandle\n",
      "File \u001b[1;32mc:\\Users\\kabir\\.vscode\\Code Files\\ctp-ds-project\\.venv\\Lib\\site-packages\\pandas\\io\\common.py:882\u001b[0m, in \u001b[0;36mget_handle\u001b[1;34m(path_or_buf, mode, encoding, compression, memory_map, is_text, errors, storage_options)\u001b[0m\n\u001b[0;32m    873\u001b[0m         handle \u001b[38;5;241m=\u001b[39m \u001b[38;5;28mopen\u001b[39m(\n\u001b[0;32m    874\u001b[0m             handle,\n\u001b[0;32m    875\u001b[0m             ioargs\u001b[38;5;241m.\u001b[39mmode,\n\u001b[1;32m   (...)\u001b[0m\n\u001b[0;32m    878\u001b[0m             newline\u001b[38;5;241m=\u001b[39m\u001b[38;5;124m\"\u001b[39m\u001b[38;5;124m\"\u001b[39m,\n\u001b[0;32m    879\u001b[0m         )\n\u001b[0;32m    880\u001b[0m     \u001b[38;5;28;01melse\u001b[39;00m:\n\u001b[0;32m    881\u001b[0m         \u001b[38;5;66;03m# Binary mode\u001b[39;00m\n\u001b[1;32m--> 882\u001b[0m         handle \u001b[38;5;241m=\u001b[39m \u001b[38;5;28;43mopen\u001b[39;49m\u001b[43m(\u001b[49m\u001b[43mhandle\u001b[49m\u001b[43m,\u001b[49m\u001b[43m \u001b[49m\u001b[43mioargs\u001b[49m\u001b[38;5;241;43m.\u001b[39;49m\u001b[43mmode\u001b[49m\u001b[43m)\u001b[49m\n\u001b[0;32m    883\u001b[0m     handles\u001b[38;5;241m.\u001b[39mappend(handle)\n\u001b[0;32m    885\u001b[0m \u001b[38;5;66;03m# Convert BytesIO or file objects passed with an encoding\u001b[39;00m\n",
      "\u001b[1;31mKeyboardInterrupt\u001b[0m: "
     ]
    }
   ],
   "source": [
    "N_PARQUETS_TO_READ = 100_000  \n",
    "#skip this step cause its mad heavy\n",
    "combined_meta = {}\n",
    "for i, d in tqdm(train.iterrows(), total=len(train)):\n",
    "    file_path = d[\"path\"]\n",
    "    example_landmark = pd.read_parquet(f\"{BASE_DIR}/{file_path}\")\n",
    "    # Get the number of landmarks with x,y,z data per type\n",
    "    meta = (\n",
    "        example_landmark.dropna(subset=[\"x\", \"y\", \"z\"])[\"type\"].value_counts().to_dict()\n",
    "    )\n",
    "    meta[\"frames\"] = example_landmark[\"frame\"].nunique()\n",
    "    xyz_meta = (\n",
    "        example_landmark.agg(\n",
    "            {\n",
    "                \"x\": [\"min\", \"max\", \"mean\"],\n",
    "                \"y\": [\"min\", \"max\", \"mean\"],\n",
    "                \"z\": [\"min\", \"max\", \"mean\"],\n",
    "            }\n",
    "        )\n",
    "        .unstack()\n",
    "        .to_dict()\n",
    "    )\n",
    "\n",
    "    for key in xyz_meta.keys():\n",
    "        new_key = key[0] + \"_\" + key[1]\n",
    "        meta[new_key] = xyz_meta[key]\n",
    "    combined_meta[file_path] = meta\n",
    "    if i >= N_PARQUETS_TO_READ:\n",
    "        break\n"
   ]
  },
  {
   "cell_type": "code",
   "execution_count": 21,
   "metadata": {},
   "outputs": [
    {
     "ename": "NameError",
     "evalue": "name 'combined_meta' is not defined",
     "output_type": "error",
     "traceback": [
      "\u001b[1;31m---------------------------------------------------------------------------\u001b[0m",
      "\u001b[1;31mNameError\u001b[0m                                 Traceback (most recent call last)",
      "Cell \u001b[1;32mIn[21], line 2\u001b[0m\n\u001b[0;32m      1\u001b[0m train_with_meta \u001b[38;5;241m=\u001b[39m train\u001b[38;5;241m.\u001b[39mmerge( \u001b[38;5;66;03m#skip this too\u001b[39;00m\n\u001b[1;32m----> 2\u001b[0m     pd\u001b[38;5;241m.\u001b[39mDataFrame(\u001b[43mcombined_meta\u001b[49m)\u001b[38;5;241m.\u001b[39mT\u001b[38;5;241m.\u001b[39mreset_index()\u001b[38;5;241m.\u001b[39mrename(columns\u001b[38;5;241m=\u001b[39m{\u001b[38;5;124m\"\u001b[39m\u001b[38;5;124mindex\u001b[39m\u001b[38;5;124m\"\u001b[39m: \u001b[38;5;124m\"\u001b[39m\u001b[38;5;124mpath\u001b[39m\u001b[38;5;124m\"\u001b[39m}),\n\u001b[0;32m      3\u001b[0m     how\u001b[38;5;241m=\u001b[39m\u001b[38;5;124m\"\u001b[39m\u001b[38;5;124mleft\u001b[39m\u001b[38;5;124m\"\u001b[39m,\n\u001b[0;32m      4\u001b[0m )\n\u001b[0;32m      5\u001b[0m train_with_meta\u001b[38;5;241m.\u001b[39mto_parquet(\u001b[38;5;124m\"\u001b[39m\u001b[38;5;124mtrain_with_meta.parquet\u001b[39m\u001b[38;5;124m\"\u001b[39m)\n",
      "\u001b[1;31mNameError\u001b[0m: name 'combined_meta' is not defined"
     ]
    }
   ],
   "source": [
    "train_with_meta = train.merge( #skip this too\n",
    "    pd.DataFrame(combined_meta).T.reset_index().rename(columns={\"index\": \"path\"}),\n",
    "    how=\"left\",\n",
    ")\n",
    "train_with_meta.to_parquet(\"train_with_meta.parquet\")"
   ]
  },
  {
   "cell_type": "code",
   "execution_count": 13,
   "metadata": {},
   "outputs": [],
   "source": [
    "train_with_meta=pd.read_parquet(\"train_with_meta.parquet\") #this is a test. it will be included"
   ]
  },
  {
   "cell_type": "code",
   "execution_count": 14,
   "metadata": {},
   "outputs": [
    {
     "data": {
      "image/png": "[encoded data removed]",
      "text/plain": [
       "<Figure size 640x480 with 1 Axes>"
      ]
     },
     "metadata": {},
     "output_type": "display_data"
    }
   ],
   "source": [
    "train_with_meta[[\"face\", \"pose\", \"left_hand\", \"right_hand\"]].sum().sort_values().plot(\n",
    "    kind=\"barh\", title=\"Sum of Rows by Landmark Type\"\n",
    ")\n",
    "plt.show()"
   ]
  },
  {
   "cell_type": "code",
   "execution_count": 15,
   "metadata": {},
   "outputs": [
    {
     "data": {
      "text/plain": [
       "<Axes: title={'center': 'Rate of Frame/Keypoints with Data'}>"
      ]
     },
     "execution_count": 15,
     "metadata": {},
     "output_type": "execute_result"
    },
    {
     "data": {
      "image/png": "[encoded data removed]",
      "text/plain": [
       "<Figure size 640x480 with 1 Axes>"
      ]
     },
     "metadata": {},
     "output_type": "display_data"
    }
   ],
   "source": [
    "# checking to see if the number of landmarks for this type is zero\n",
    "(\n",
    "    train_with_meta.query(\"index < 1000\").fillna(0)[\n",
    "        [\"face\", \"pose\", \"left_hand\", \"right_hand\"]\n",
    "    ]\n",
    "    > 0\n",
    ").mean().plot(kind=\"barh\", title=\"Rate of Frame/Keypoints with Data\")"
   ]
  },
  {
   "cell_type": "code",
   "execution_count": 16,
   "metadata": {},
   "outputs": [],
   "source": [
    "example_fn = train_with_meta.dropna().query('sign == \"shhh\"')[\"path\"].values[0]\n",
    "example_landmark = pd.read_parquet(f\"{BASE_DIR}/{example_fn}\")"
   ]
  },
  {
   "cell_type": "code",
   "execution_count": 17,
   "metadata": {},
   "outputs": [
    {
     "data": {
      "text/plain": [
       "type\n",
       "face          468\n",
       "pose           33\n",
       "left_hand      21\n",
       "right_hand     21\n",
       "Name: count, dtype: int64"
      ]
     },
     "execution_count": 17,
     "metadata": {},
     "output_type": "execute_result"
    }
   ],
   "source": [
    "example_landmark.query(\"frame == 25\")[\"type\"].value_counts()  # Middle of the video"
   ]
  },
  {
   "cell_type": "code",
   "execution_count": 19,
   "metadata": {},
   "outputs": [],
   "source": [
    "example_landmark[\"no_xyz\"] = example_landmark[\"x\"].isna()"
   ]
  },
  {
   "cell_type": "code",
   "execution_count": 20,
   "metadata": {},
   "outputs": [
    {
     "data": {
      "text/html": [
       "<div>\n",
       "<style scoped>\n",
       "    .dataframe tbody tr th:only-of-type {\n",
       "        vertical-align: middle;\n",
       "    }\n",
       "\n",
       "    .dataframe tbody tr th {\n",
       "        vertical-align: top;\n",
       "    }\n",
       "\n",
       "    .dataframe thead th {\n",
       "        text-align: right;\n",
       "    }\n",
       "</style>\n",
       "<table border=\"1\" class=\"dataframe\">\n",
       "  <thead>\n",
       "    <tr style=\"text-align: right;\">\n",
       "      <th></th>\n",
       "      <th>frame</th>\n",
       "      <th>row_id</th>\n",
       "      <th>type</th>\n",
       "      <th>landmark_index</th>\n",
       "      <th>x</th>\n",
       "      <th>y</th>\n",
       "      <th>z</th>\n",
       "      <th>no_xyz</th>\n",
       "    </tr>\n",
       "  </thead>\n",
       "  <tbody>\n",
       "    <tr>\n",
       "      <th>0</th>\n",
       "      <td>14</td>\n",
       "      <td>14-face-0</td>\n",
       "      <td>face</td>\n",
       "      <td>0</td>\n",
       "      <td>0.432380</td>\n",
       "      <td>0.375417</td>\n",
       "      <td>-0.044000</td>\n",
       "      <td>False</td>\n",
       "    </tr>\n",
       "    <tr>\n",
       "      <th>1</th>\n",
       "      <td>14</td>\n",
       "      <td>14-face-1</td>\n",
       "      <td>face</td>\n",
       "      <td>1</td>\n",
       "      <td>0.437980</td>\n",
       "      <td>0.349091</td>\n",
       "      <td>-0.070176</td>\n",
       "      <td>False</td>\n",
       "    </tr>\n",
       "    <tr>\n",
       "      <th>2</th>\n",
       "      <td>14</td>\n",
       "      <td>14-face-2</td>\n",
       "      <td>face</td>\n",
       "      <td>2</td>\n",
       "      <td>0.429624</td>\n",
       "      <td>0.360922</td>\n",
       "      <td>-0.040331</td>\n",
       "      <td>False</td>\n",
       "    </tr>\n",
       "    <tr>\n",
       "      <th>3</th>\n",
       "      <td>14</td>\n",
       "      <td>14-face-3</td>\n",
       "      <td>face</td>\n",
       "      <td>3</td>\n",
       "      <td>0.430260</td>\n",
       "      <td>0.315678</td>\n",
       "      <td>-0.049688</td>\n",
       "      <td>False</td>\n",
       "    </tr>\n",
       "    <tr>\n",
       "      <th>4</th>\n",
       "      <td>14</td>\n",
       "      <td>14-face-4</td>\n",
       "      <td>face</td>\n",
       "      <td>4</td>\n",
       "      <td>0.441155</td>\n",
       "      <td>0.338613</td>\n",
       "      <td>-0.073218</td>\n",
       "      <td>False</td>\n",
       "    </tr>\n",
       "    <tr>\n",
       "      <th>...</th>\n",
       "      <td>...</td>\n",
       "      <td>...</td>\n",
       "      <td>...</td>\n",
       "      <td>...</td>\n",
       "      <td>...</td>\n",
       "      <td>...</td>\n",
       "      <td>...</td>\n",
       "      <td>...</td>\n",
       "    </tr>\n",
       "    <tr>\n",
       "      <th>12484</th>\n",
       "      <td>36</td>\n",
       "      <td>36-right_hand-16</td>\n",
       "      <td>right_hand</td>\n",
       "      <td>16</td>\n",
       "      <td>NaN</td>\n",
       "      <td>NaN</td>\n",
       "      <td>NaN</td>\n",
       "      <td>True</td>\n",
       "    </tr>\n",
       "    <tr>\n",
       "      <th>12485</th>\n",
       "      <td>36</td>\n",
       "      <td>36-right_hand-17</td>\n",
       "      <td>right_hand</td>\n",
       "      <td>17</td>\n",
       "      <td>NaN</td>\n",
       "      <td>NaN</td>\n",
       "      <td>NaN</td>\n",
       "      <td>True</td>\n",
       "    </tr>\n",
       "    <tr>\n",
       "      <th>12486</th>\n",
       "      <td>36</td>\n",
       "      <td>36-right_hand-18</td>\n",
       "      <td>right_hand</td>\n",
       "      <td>18</td>\n",
       "      <td>NaN</td>\n",
       "      <td>NaN</td>\n",
       "      <td>NaN</td>\n",
       "      <td>True</td>\n",
       "    </tr>\n",
       "    <tr>\n",
       "      <th>12487</th>\n",
       "      <td>36</td>\n",
       "      <td>36-right_hand-19</td>\n",
       "      <td>right_hand</td>\n",
       "      <td>19</td>\n",
       "      <td>NaN</td>\n",
       "      <td>NaN</td>\n",
       "      <td>NaN</td>\n",
       "      <td>True</td>\n",
       "    </tr>\n",
       "    <tr>\n",
       "      <th>12488</th>\n",
       "      <td>36</td>\n",
       "      <td>36-right_hand-20</td>\n",
       "      <td>right_hand</td>\n",
       "      <td>20</td>\n",
       "      <td>NaN</td>\n",
       "      <td>NaN</td>\n",
       "      <td>NaN</td>\n",
       "      <td>True</td>\n",
       "    </tr>\n",
       "  </tbody>\n",
       "</table>\n",
       "<p>12489 rows × 8 columns</p>\n",
       "</div>"
      ],
      "text/plain": [
       "       frame            row_id        type  landmark_index         x  \\\n",
       "0         14         14-face-0        face               0  0.432380   \n",
       "1         14         14-face-1        face               1  0.437980   \n",
       "2         14         14-face-2        face               2  0.429624   \n",
       "3         14         14-face-3        face               3  0.430260   \n",
       "4         14         14-face-4        face               4  0.441155   \n",
       "...      ...               ...         ...             ...       ...   \n",
       "12484     36  36-right_hand-16  right_hand              16       NaN   \n",
       "12485     36  36-right_hand-17  right_hand              17       NaN   \n",
       "12486     36  36-right_hand-18  right_hand              18       NaN   \n",
       "12487     36  36-right_hand-19  right_hand              19       NaN   \n",
       "12488     36  36-right_hand-20  right_hand              20       NaN   \n",
       "\n",
       "              y         z  no_xyz  \n",
       "0      0.375417 -0.044000   False  \n",
       "1      0.349091 -0.070176   False  \n",
       "2      0.360922 -0.040331   False  \n",
       "3      0.315678 -0.049688   False  \n",
       "4      0.338613 -0.073218   False  \n",
       "...         ...       ...     ...  \n",
       "12484       NaN       NaN    True  \n",
       "12485       NaN       NaN    True  \n",
       "12486       NaN       NaN    True  \n",
       "12487       NaN       NaN    True  \n",
       "12488       NaN       NaN    True  \n",
       "\n",
       "[12489 rows x 8 columns]"
      ]
     },
     "execution_count": 20,
     "metadata": {},
     "output_type": "execute_result"
    }
   ],
   "source": [
    "example_landmark #debug"
   ]
  },
  {
   "cell_type": "code",
   "execution_count": 21,
   "metadata": {},
   "outputs": [
    {
     "data": {
      "text/plain": [
       "<Axes: title={'center': 'missing xyz per frame'}, xlabel='frame'>"
      ]
     },
     "execution_count": 21,
     "metadata": {},
     "output_type": "execute_result"
    },
    {
     "data": {
      "image/png": "[encoded data removed]",
      "text/plain": [
       "<Figure size 640x480 with 1 Axes>"
      ]
     },
     "metadata": {},
     "output_type": "display_data"
    }
   ],
   "source": [
    "example_landmark.groupby(\"frame\")[\"no_xyz\"].sum().plot(\n",
    "    title=\"missing xyz per frame\", kind=\"bar\"\n",
    ")"
   ]
  },
  {
   "cell_type": "code",
   "execution_count": 23,
   "metadata": {},
   "outputs": [
    {
     "data": {
      "application/vnd.plotly.v1+json": {
       "config": {
        "plotlyServerURL": "https://plot.ly"
       },
       "data": [
        {
         "hovertemplate": "type=face<br>x=%{x}<br>y=%{y}<br>z=%{z}<extra></extra>",
         "legendgroup": "face",
         "marker": {
          "color": "#636efa",
          "symbol": "circle"
         },
         "mode": "markers",
         "name": "face",
         "scene": "scene",
         "showlegend": true,
         "type": "scatter3d",
         "x": [
          0.4272492527961731,
          0.43166282773017883,
          0.42373421788215637,
          0.4233693778514862,
          0.4345952272415161,
          0.4357866942882538,
          0.43630915880203247,
          0.3314066529273987,
          0.4417411684989929,
          0.44558390974998474,
          0.4584703743457794,
          0.4263850152492523,
          0.4244031310081482,
          0.422271728515625,
          0.42150792479515076,
          0.42119890451431274,
          0.4199700653553009,
          0.417980432510376,
          0.4019543528556824,
          0.42869770526885986,
          0.41426631808280945,
          0.2840838134288788,
          0.3703940510749817,
          0.35623466968536377,
          0.342451274394989,
          0.32396242022514343,
          0.38272127509117126,
          0.3560327887535095,
          0.3719337284564972,
          0.34008628129959106,
          0.32859566807746887,
          0.31095966696739197,
          0.3454645574092865,
          0.3261854350566864,
          0.2627047300338745,
          0.29534897208213806,
          0.3509044349193573,
          0.4098835289478302,
          0.4101015329360962,
          0.3908877372741699,
          0.3805500268936157,
          0.3975529372692108,
          0.38918864727020264,
          0.34229397773742676,
          0.42089542746543884,
          0.4212470054626465,
          0.3099824786186218,
          0.38505813479423523,
          0.38402318954467773,
          0.3821926414966583,
          0.3045142590999603,
          0.42287677526474,
          0.34817707538604736,
          0.32649922370910645,
          0.3064911365509033,
          0.410616934299469,
          0.38460513949394226,
          0.33453667163848877,
          0.24865074455738068,
          0.3935215473175049,
          0.40383675694465637,
          0.37382739782333374,
          0.3781842291355133,
          0.31974223256111145,
          0.3816581964492798,
          0.3755514621734619,
          0.3751804530620575,
          0.37409892678260803,
          0.31592264771461487,
          0.37789061665534973,
          0.30166807770729065,
          0.2944037616252899,
          0.40972766280174255,
          0.39402759075164795,
          0.38460877537727356,
          0.39593157172203064,
          0.3761735260486603,
          0.3802538812160492,
          0.3801008462905884,
          0.40209659934043884,
          0.3926261067390442,
          0.40056344866752625,
          0.4107012152671814,
          0.38262322545051575,
          0.4011971652507782,
          0.4044525623321533,
          0.40743789076805115,
          0.4098469614982605,
          0.39264634251594543,
          0.3890816271305084,
          0.38447123765945435,
          0.3800383508205414,
          0.35654810070991516,
          0.24356794357299805,
          0.42620763182640076,
          0.38691434264183044,
          0.38403797149658203,
          0.4064456522464752,
          0.38333484530448914,
          0.4053138494491577,
          0.36813339591026306,
          0.3427615761756897,
          0.3783048391342163,
          0.3352621793746948,
          0.34255820512771606,
          0.3446618616580963,
          0.3512827157974243,
          0.4094969630241394,
          0.4128071665763855,
          0.4139161705970764,
          0.33065491914749146,
          0.29421114921569824,
          0.3909193277359009,
          0.3127371370792389,
          0.39725127816200256,
          0.3940803110599518,
          0.2716684937477112,
          0.3034038543701172,
          0.3220309615135193,
          0.3503338694572449,
          0.3715227246284485,
          0.3876376152038574,
          0.42182162404060364,
          0.2678273916244507,
          0.3015945255756378,
          0.4220089316368103,
          0.38542628288269043,
          0.2556530833244324,
          0.40027862787246704,
          0.375238835811615,
          0.31887367367744446,
          0.3929411470890045,
          0.24304310977458954,
          0.39096763730049133,
          0.40799540281295776,
          0.28277742862701416,
          0.2758037745952606,
          0.24861353635787964,
          0.2654160261154175,
          0.27806809544563293,
          0.33935630321502686,
          0.42125409841537476,
          0.3706866204738617,
          0.28175556659698486,
          0.3453645408153534,
          0.3572758734226227,
          0.3762648105621338,
          0.2650122046470642,
          0.36036625504493713,
          0.3172032833099365,
          0.2980117201805115,
          0.45213690400123596,
          0.3885669410228729,
          0.36895519495010376,
          0.37995997071266174,
          0.38726016879081726,
          0.29070574045181274,
          0.379547119140625,
          0.3679640293121338,
          0.35623598098754883,
          0.34392112493515015,
          0.33557361364364624,
          0.26792681217193604,
          0.33723151683807373,
          0.42187070846557617,
          0.3722822666168213,
          0.39428314566612244,
          0.40229523181915283,
          0.4380701184272766,
          0.30205512046813965,
          0.31915661692619324,
          0.3637501001358032,
          0.26015543937683105,
          0.3874977231025696,
          0.4098655581474304,
          0.3919142782688141,
          0.33742770552635193,
          0.24727381765842438,
          0.4001843333244324,
          0.3966180384159088,
          0.39218148589134216,
          0.3880842626094818,
          0.3642326891422272,
          0.38329029083251953,
          0.3790716230869293,
          0.37505990266799927,
          0.343820720911026,
          0.28597021102905273,
          0.4098898470401764,
          0.4047411382198334,
          0.3948432207107544,
          0.38684728741645813,
          0.27853554487228394,
          0.41976404190063477,
          0.3531189262866974,
          0.43584778904914856,
          0.4224914312362671,
          0.4359133243560791,
          0.39620649814605713,
          0.3952381908893585,
          0.3985876739025116,
          0.37528136372566223,
          0.3269561529159546,
          0.36059725284576416,
          0.33767783641815186,
          0.3242913484573364,
          0.34421563148498535,
          0.3080791234970093,
          0.3690490424633026,
          0.3853762745857239,
          0.31187179684638977,
          0.32708853483200073,
          0.3187646269798279,
          0.26545459032058716,
          0.29692965745925903,
          0.251933753490448,
          0.3301240801811218,
          0.3977176249027252,
          0.3985353708267212,
          0.38835573196411133,
          0.40756094455718994,
          0.39534956216812134,
          0.373432993888855,
          0.3528895974159241,
          0.33477628231048584,
          0.3209027647972107,
          0.3088008761405945,
          0.2537083923816681,
          0.3183782696723938,
          0.33319056034088135,
          0.3527010679244995,
          0.3711705803871155,
          0.38577768206596375,
          0.39615288376808167,
          0.24879135191440582,
          0.3873785138130188,
          0.4098910689353943,
          0.4102453291416168,
          0.4146258533000946,
          0.4084741473197937,
          0.38931727409362793,
          0.41755926609039307,
          0.4170500636100769,
          0.39654600620269775,
          0.40483734011650085,
          0.4104243218898773,
          0.33037155866622925,
          0.3204878866672516,
          0.44575512409210205,
          0.5221428275108337,
          0.43734678626060486,
          0.5668548345565796,
          0.48591476678848267,
          0.4983733296394348,
          0.510164201259613,
          0.5257711410522461,
          0.4756930470466614,
          0.5121417045593262,
          0.4969292879104614,
          0.5252384543418884,
          0.5324859619140625,
          0.5331337451934814,
          0.44105270504951477,
          0.5265810489654541,
          0.5609637498855591,
          0.5448271036148071,
          0.4880966544151306,
          0.44252848625183105,
          0.4355069696903229,
          0.45464521646499634,
          0.4581797122955322,
          0.44316670298576355,
          0.4469296634197235,
          0.46279364824295044,
          0.44108831882476807,
          0.44537270069122314,
          0.5500538349151611,
          0.46749237179756165,
          0.4645918905735016,
          0.4664192199707031,
          0.5250867605209351,
          0.44655099511146545,
          0.5278009176254272,
          0.5426596999168396,
          0.563087522983551,
          0.4711853265762329,
          0.48282891511917114,
          0.47432419657707214,
          0.5200012922286987,
          0.4532604217529297,
          0.44293925166130066,
          0.4539530873298645,
          0.4501301348209381,
          0.5489011406898499,
          0.46248412132263184,
          0.5051608085632324,
          0.5093221068382263,
          0.5285511612892151,
          0.5554649829864502,
          0.5166410207748413,
          0.5555390119552612,
          0.5621583461761475,
          0.4399433135986328,
          0.44941964745521545,
          0.4531554877758026,
          0.4493859112262726,
          0.452049195766449,
          0.45043376088142395,
          0.44852668046951294,
          0.4513361155986786,
          0.44137799739837646,
          0.4374147355556488,
          0.43102991580963135,
          0.4192796051502228,
          0.43222466111183167,
          0.4331134259700775,
          0.4323863983154297,
          0.43060302734375,
          0.4411066472530365,
          0.44456472992897034,
          0.4482734203338623,
          0.45098260045051575,
          0.4686119556427002,
          0.5437583923339844,
          0.44405612349510193,
          0.4471501410007477,
          0.4393283426761627,
          0.4567693769931793,
          0.44107168912887573,
          0.4795171618461609,
          0.4990918040275574,
          0.46623843908309937,
          0.5518487691879272,
          0.5414963960647583,
          0.5331259369850159,
          0.45113077759742737,
          0.4791511297225952,
          0.48749393224716187,
          0.49860915541648865,
          0.5197674632072449,
          0.5427341461181641,
          0.46926429867744446,
          0.5410261750221252,
          0.4601415991783142,
          0.46053439378738403,
          0.5541495084762573,
          0.53632652759552,
          0.5225498676300049,
          0.4996037483215332,
          0.48228394985198975,
          0.469820499420166,
          0.44736963510513306,
          0.550029456615448,
          0.5484036207199097,
          0.4344424903392792,
          0.465043306350708,
          0.5575698614120483,
          0.4615840017795563,
          0.46660637855529785,
          0.5319284200668335,
          0.4621497690677643,
          0.5343302488327026,
          0.46912091970443726,
          0.4549337923526764,
          0.49548232555389404,
          0.48918455839157104,
          0.553817629814148,
          0.5135797262191772,
          0.5626981258392334,
          0.43969500064849854,
          0.4309835731983185,
          0.4740729033946991,
          0.5507476925849915,
          0.5106022357940674,
          0.5000733137130737,
          0.45324862003326416,
          0.5423070192337036,
          0.41444090008735657,
          0.45218995213508606,
          0.46910935640335083,
          0.4894048273563385,
          0.4793645143508911,
          0.47266650199890137,
          0.5537350177764893,
          0.48154398798942566,
          0.49294862151145935,
          0.504196047782898,
          0.514771044254303,
          0.5210061073303223,
          0.5651271939277649,
          0.5174717903137207,
          0.4601646363735199,
          0.454688161611557,
          0.43916165828704834,
          0.4756985008716583,
          0.458196222782135,
          0.4176086485385895,
          0.5046781301498413,
          0.4732804298400879,
          0.45326972007751465,
          0.4345952570438385,
          0.5447594523429871,
          0.43717941641807556,
          0.4401393234729767,
          0.44274964928627014,
          0.4439029097557068,
          0.43692246079444885,
          0.44859078526496887,
          0.4533846080303192,
          0.4579710364341736,
          0.4735598862171173,
          0.527026355266571,
          0.453768253326416,
          0.4636598527431488,
          0.46967047452926636,
          0.44399169087409973,
          0.5168808698654175,
          0.4548266530036926,
          0.43981701135635376,
          0.4463759660720825,
          0.4595305621623993,
          0.4191858768463135,
          0.47088760137557983,
          0.47491729259490967,
          0.4565989673137665,
          0.5043038725852966,
          0.48334383964538574,
          0.5079945921897888,
          0.4189433753490448,
          0.4642520546913147,
          0.47708407044410706,
          0.45949602127075195,
          0.4847680926322937,
          0.5321804285049438,
          0.49866172671318054,
          0.5314547419548035,
          0.4872961640357971,
          0.45907941460609436,
          0.45578742027282715,
          0.46003496646881104,
          0.45372194051742554,
          0.47696518898010254,
          0.5002044439315796,
          0.5192720293998718,
          0.5331937670707703,
          0.5408180952072144,
          0.5376299619674683,
          0.5585100650787354,
          0.5273391008377075,
          0.5153409242630005,
          0.49916133284568787,
          0.48357751965522766,
          0.4717722535133362,
          0.46419042348861694,
          0.5498045682907104,
          0.4578678011894226,
          0.45368707180023193,
          0.44849517941474915,
          0.4397541284561157,
          0.4471178650856018,
          0.45353448390960693,
          0.4378984868526459,
          0.4345932900905609,
          0.4652080535888672,
          0.45907384157180786,
          0.4562886953353882,
          0.5243512392044067,
          0.5354431867599487
         ],
         "y": [
          0.38230663537979126,
          0.358013391494751,
          0.36870473623275757,
          0.3244880735874176,
          0.34784016013145447,
          0.3350988030433655,
          0.30357927083969116,
          0.2831834554672241,
          0.27127787470817566,
          0.2555616497993469,
          0.19939756393432617,
          0.38845816254615784,
          0.39631712436676025,
          0.40271809697151184,
          0.41294580698013306,
          0.41872355341911316,
          0.42585068941116333,
          0.4332388937473297,
          0.44474294781684875,
          0.36363235116004944,
          0.36236974596977234,
          0.22523047029972076,
          0.29724037647247314,
          0.29655179381370544,
          0.2942167818546295,
          0.2853374481201172,
          0.29610347747802734,
          0.26150161027908325,
          0.265325665473938,
          0.2609792649745941,
          0.2640122175216675,
          0.2892816662788391,
          0.44858986139297485,
          0.27934378385543823,
          0.2736004889011383,
          0.27686500549316406,
          0.33974480628967285,
          0.37976327538490295,
          0.3962319493293762,
          0.38697466254234314,
          0.39525172114372253,
          0.39871135354042053,
          0.402484655380249,
          0.41054293513298035,
          0.3564891517162323,
          0.34647616744041443,
          0.24735650420188904,
          0.3186745047569275,
          0.34963396191596985,
          0.3442141115665436,
          0.33235618472099304,
          0.3344617784023285,
          0.24087843298912048,
          0.24137400090694427,
          0.2081301510334015,
          0.26191604137420654,
          0.27225154638290405,
          0.39771777391433716,
          0.3797161877155304,
          0.3570718467235565,
          0.36189526319503784,
          0.4098014533519745,
          0.4097009003162384,
          0.23180794715881348,
          0.3540692627429962,
          0.24656078219413757,
          0.23678258061408997,
          0.19177159667015076,
          0.21996420621871948,
          0.21456725895404816,
          0.23984965682029724,
          0.2331557422876358,
          0.3879510164260864,
          0.3928729295730591,
          0.3988122045993805,
          0.3594798445701599,
          0.4097607135772705,
          0.41196197271347046,
          0.40959951281547546,
          0.35443115234375,
          0.4051976799964905,
          0.40305089950561523,
          0.40205439925193787,
          0.4405384659767151,
          0.42987939715385437,
          0.4228537082672119,
          0.4160761833190918,
          0.41125139594078064,
          0.4099609851837158,
          0.41204404830932617,
          0.4146725535392761,
          0.4179118871688843,
          0.37982243299484253,
          0.3199634253978729,
          0.3662227988243103,
          0.40997615456581116,
          0.4108947515487671,
          0.36615318059921265,
          0.36060845851898193,
          0.3641304075717926,
          0.321897029876709,
          0.3249579071998596,
          0.348438560962677,
          0.1964951455593109,
          0.21300184726715088,
          0.23069550096988678,
          0.42145225405693054,
          0.24589215219020844,
          0.22076493501663208,
          0.19326180219650269,
          0.29046568274497986,
          0.29393234848976135,
          0.294345885515213,
          0.26564958691596985,
          0.31386876106262207,
          0.3469300866127014,
          0.2986918091773987,
          0.3043992519378662,
          0.3121490180492401,
          0.314777135848999,
          0.3132975697517395,
          0.3104170858860016,
          0.30394604802131653,
          0.32233044505119324,
          0.26081734895706177,
          0.36249780654907227,
          0.3289312422275543,
          0.270089715719223,
          0.3062557280063629,
          0.348794162273407,
          0.27735161781311035,
          0.3403594493865967,
          0.34820255637168884,
          0.29034075140953064,
          0.33627015352249146,
          0.4151085615158081,
          0.4269745647907257,
          0.32076719403266907,
          0.3965543806552887,
          0.25196579098701477,
          0.4592457413673401,
          0.36521703004837036,
          0.3343169093132019,
          0.27609434723854065,
          0.2884083688259125,
          0.2903664708137512,
          0.4134707450866699,
          0.34506088495254517,
          0.47821974754333496,
          0.45720812678337097,
          0.4449472725391388,
          0.22777970135211945,
          0.48382431268692017,
          0.2908840775489807,
          0.2905801236629486,
          0.29062777757644653,
          0.25565147399902344,
          0.28205403685569763,
          0.2779344618320465,
          0.27593231201171875,
          0.27574893832206726,
          0.2769526243209839,
          0.24507209658622742,
          0.28583377599716187,
          0.37633994221687317,
          0.374883234500885,
          0.355257511138916,
          0.37457147240638733,
          0.28779497742652893,
          0.4319249093532562,
          0.4454999268054962,
          0.4705117642879486,
          0.40655311942100525,
          0.2871290147304535,
          0.3184822201728821,
          0.47692427039146423,
          0.4686623811721802,
          0.3464997708797455,
          0.4101363718509674,
          0.4136604070663452,
          0.41838371753692627,
          0.4241877496242523,
          0.43205299973487854,
          0.4062715768814087,
          0.40463390946388245,
          0.4027149975299835,
          0.3874973952770233,
          0.3543911874294281,
          0.30817821621894836,
          0.282926470041275,
          0.28326255083084106,
          0.40740859508514404,
          0.38163885474205017,
          0.2846446633338928,
          0.43944957852363586,
          0.3247170150279999,
          0.3151029348373413,
          0.3149486184120178,
          0.33234086632728577,
          0.46660828590393066,
          0.454982727766037,
          0.4498518705368042,
          0.4130586087703705,
          0.35521838068962097,
          0.42715737223625183,
          0.34967905282974243,
          0.3645741045475006,
          0.3658660352230072,
          0.46035531163215637,
          0.33681392669677734,
          0.42032700777053833,
          0.4351504445075989,
          0.39721158146858215,
          0.365166038274765,
          0.39724838733673096,
          0.3717489540576935,
          0.37750163674354553,
          0.32354551553726196,
          0.3520958125591278,
          0.35355517268180847,
          0.3462343215942383,
          0.26978665590286255,
          0.2582499086856842,
          0.2535088360309601,
          0.25322210788726807,
          0.2570340037345886,
          0.27714604139328003,
          0.29674848914146423,
          0.2959177792072296,
          0.3016882836818695,
          0.3046194612979889,
          0.30460792779922485,
          0.30291756987571716,
          0.30073100328445435,
          0.2944892644882202,
          0.3563866913318634,
          0.32732921838760376,
          0.35408416390419006,
          0.36031487584114075,
          0.35585832595825195,
          0.3599419891834259,
          0.36147448420524597,
          0.3641926348209381,
          0.29148611426353455,
          0.29557254910469055,
          0.2986832857131958,
          0.2782178819179535,
          0.26890215277671814,
          0.3275986909866333,
          0.3135244846343994,
          0.36559706926345825,
          0.26889175176620483,
          0.31595078110694885,
          0.31874626874923706,
          0.31992149353027344,
          0.3178985118865967,
          0.31160876154899597,
          0.28849488496780396,
          0.28761154413223267,
          0.29224422574043274,
          0.29807567596435547,
          0.32455068826675415,
          0.45923638343811035,
          0.31213560700416565,
          0.3180876672267914,
          0.3184810280799866,
          0.35879895091056824,
          0.3837357461452484,
          0.3993685841560364,
          0.39414605498313904,
          0.40412747859954834,
          0.4039399325847626,
          0.4089149534702301,
          0.4252726137638092,
          0.3592924475669861,
          0.34970352053642273,
          0.28973692655563354,
          0.33045318722724915,
          0.3603125512599945,
          0.35540854930877686,
          0.36326977610588074,
          0.33766239881515503,
          0.2739831805229187,
          0.2800080180168152,
          0.24857276678085327,
          0.27588745951652527,
          0.2902228832244873,
          0.41505035758018494,
          0.4146864712238312,
          0.36492156982421875,
          0.36707547307014465,
          0.41987112164497375,
          0.41836094856262207,
          0.2739447355270386,
          0.36468344926834106,
          0.2720286548137665,
          0.2634027898311615,
          0.2168627381324768,
          0.25862616300582886,
          0.23801961541175842,
          0.2860802114009857,
          0.27531611919403076,
          0.39165398478507996,
          0.39939218759536743,
          0.4066222012042999,
          0.36640217900276184,
          0.41919851303100586,
          0.4206930696964264,
          0.4176233410835266,
          0.3613467812538147,
          0.4102296531200409,
          0.40709438920021057,
          0.4044995903968811,
          0.4450582265853882,
          0.43394631147384644,
          0.4263969957828522,
          0.41911840438842773,
          0.41375991702079773,
          0.41523462533950806,
          0.4186604917049408,
          0.42294842004776,
          0.4274700880050659,
          0.3940807282924652,
          0.36267346143722534,
          0.4160654544830322,
          0.4182804226875305,
          0.3705368638038635,
          0.37003159523010254,
          0.36891692876815796,
          0.3377542197704315,
          0.3471604585647583,
          0.36006978154182434,
          0.2312985211610794,
          0.2461639940738678,
          0.26597246527671814,
          0.4335685670375824,
          0.2622213363647461,
          0.2332691252231598,
          0.2069612294435501,
          0.3200344145298004,
          0.3325854241847992,
          0.3075910806655884,
          0.30410394072532654,
          0.32296353578567505,
          0.355993390083313,
          0.3396637737751007,
          0.33882495760917664,
          0.34037503600120544,
          0.33577558398246765,
          0.3291180431842804,
          0.32218849658966064,
          0.3077854514122009,
          0.36219143867492676,
          0.3034352660179138,
          0.3641981780529022,
          0.3400178849697113,
          0.3149254024028778,
          0.3147476613521576,
          0.36090216040611267,
          0.3127653896808624,
          0.34969231486320496,
          0.3879901170730591,
          0.3037532567977905,
          0.34262314438819885,
          0.4407787322998047,
          0.4516468644142151,
          0.3642341196537018,
          0.42805609107017517,
          0.2955535650253296,
          0.4697585105895996,
          0.3665672838687897,
          0.34863629937171936,
          0.32156646251678467,
          0.31391459703445435,
          0.3127880096435547,
          0.4233643710613251,
          0.3833228349685669,
          0.4833645224571228,
          0.4709012508392334,
          0.4633721113204956,
          0.31052425503730774,
          0.3074561655521393,
          0.3054288923740387,
          0.3023892641067505,
          0.30010858178138733,
          0.29985782504081726,
          0.3010845482349396,
          0.3041430115699768,
          0.30752426385879517,
          0.2900339663028717,
          0.3139500916004181,
          0.3861636221408844,
          0.3633691370487213,
          0.37932488322257996,
          0.4518755376338959,
          0.4605163633823395,
          0.47609376907348633,
          0.43645602464675903,
          0.3018989861011505,
          0.3246404826641083,
          0.47808510065078735,
          0.3875850439071655,
          0.4144303798675537,
          0.4189944267272949,
          0.4250229597091675,
          0.4319762587547302,
          0.44089505076408386,
          0.4136495292186737,
          0.4134935140609741,
          0.412662148475647,
          0.40376749634742737,
          0.387319415807724,
          0.31469500064849854,
          0.29376572370529175,
          0.296622097492218,
          0.4133710265159607,
          0.4127142131328583,
          0.29111599922180176,
          0.44943398237228394,
          0.3184874355792999,
          0.34109583497047424,
          0.4548557996749878,
          0.4304962158203125,
          0.37046876549720764,
          0.44108283519744873,
          0.37441056966781616,
          0.3830970823764801,
          0.3926963806152344,
          0.46589356660842896,
          0.34752458333969116,
          0.43993744254112244,
          0.4501422643661499,
          0.41802704334259033,
          0.4009309411048889,
          0.42257553339004517,
          0.4089018702507019,
          0.39797475934028625,
          0.3321835696697235,
          0.35996031761169434,
          0.3630546033382416,
          0.3524952530860901,
          0.2854716181755066,
          0.28142374753952026,
          0.2826719582080841,
          0.2872433066368103,
          0.2943650186061859,
          0.3154069185256958,
          0.3412708044052124,
          0.32808396220207214,
          0.328785240650177,
          0.326623797416687,
          0.3220314085483551,
          0.31655168533325195,
          0.31145694851875305,
          0.33839893341064453,
          0.36560600996017456,
          0.3333839774131775,
          0.35934415459632874,
          0.3638337552547455,
          0.36137518286705017,
          0.3681594133377075,
          0.3642735481262207,
          0.3665429949760437,
          0.3031567633152008,
          0.3043506145477295,
          0.305195689201355,
          0.31000953912734985,
          0.30461329221725464
         ],
         "z": [
          -0.04151267930865288,
          -0.06694986671209335,
          -0.03835732489824295,
          -0.04763752222061157,
          -0.06995049118995667,
          -0.0632544755935669,
          -0.02530752867460251,
          0.013166406191885471,
          -0.012626002542674541,
          -0.012757600285112858,
          0.006098256912082434,
          -0.04060545191168785,
          -0.03719533234834671,
          -0.03144751861691475,
          -0.025837982073426247,
          -0.0271479282528162,
          -0.029960747808218002,
          -0.02804972603917122,
          -0.018232200294733047,
          -0.06132573261857033,
          -0.04611915349960327,
          0.07353418320417404,
          0.001406499999575317,
          0.0016754419775679708,
          0.0044455016031861305,
          0.01383603923022747,
          0.005219517275691032,
          -0.00017543962167110294,
          0.0013115530600771308,
          0.0027973614633083344,
          0.006760953925549984,
          0.018492622300982475,
          -0.009928754530847073,
          0.01738600619137287,
          0.06944195926189423,
          0.03090328723192215,
          -0.015540940687060356,
          -0.04126774147152901,
          -0.03696771338582039,
          -0.03630456328392029,
          -0.02825062721967697,
          -0.033475589007139206,
          -0.025969790294766426,
          -0.010531991720199585,
          -0.06674451380968094,
          -0.06938484311103821,
          0.011706235818564892,
          -0.011472340673208237,
          -0.040032826364040375,
          -0.036002423614263535,
          -0.0032098181545734406,
          -0.060814499855041504,
          -0.004134122282266617,
          0.0038802342023700476,
          0.05405902862548828,
          -0.011201846413314342,
          0.00511936703696847,
          -0.008428875356912613,
          0.08779087662696838,
          -0.03569246083498001,
          -0.03521530702710152,
          -0.00962167140096426,
          -0.01266271248459816,
          0.009800323285162449,
          -0.03397616744041443,
          -0.009552409872412682,
          -0.011123673059046268,
          0.014657292515039444,
          0.02839137427508831,
          0.0009716948261484504,
          0.021969469264149666,
          0.04572571814060211,
          -0.040579069405794144,
          -0.03545268997550011,
          -0.028180258348584175,
          -0.03190191090106964,
          -0.011147839017212391,
          -0.016997884958982468,
          -0.012651660479605198,
          -0.0508941225707531,
          -0.023819083347916603,
          -0.02855719067156315,
          -0.03164792060852051,
          -0.019359933212399483,
          -0.029048137366771698,
          -0.030436839908361435,
          -0.02739645168185234,
          -0.02609197609126568,
          -0.019703328609466553,
          -0.02137628197669983,
          -0.02378908544778824,
          -0.02228611521422863,
          -0.024365151301026344,
          0.11131042242050171,
          -0.04608716443181038,
          -0.015492438338696957,
          -0.016681760549545288,
          -0.03668908774852753,
          -0.025398042052984238,
          -0.036019861698150635,
          -0.009415444917976856,
          -0.007859377190470695,
          -0.029951568692922592,
          0.03292294219136238,
          0.013549108989536762,
          -0.0016328432830050588,
          -0.015415530651807785,
          -0.014418293721973896,
          -0.005055395886301994,
          0.0054067946039140224,
          0.009062576107680798,
          0.023097388446331024,
          0.007843006402254105,
          0.01611287333071232,
          -0.014023160561919212,
          -0.05056228116154671,
          0.033838044852018356,
          0.011428574100136757,
          0.0008795797475613654,
          -0.0017966675804927945,
          -0.002670142101123929,
          -0.003683677176013589,
          -0.02223513275384903,
          0.027354950085282326,
          0.021029457449913025,
          -0.06137614697217941,
          -0.018606536090373993,
          0.1094866618514061,
          -0.00341589143499732,
          -0.0181130263954401,
          0.019187312573194504,
          -0.04534414783120155,
          0.10281912237405777,
          0.011417778208851814,
          -0.05526743456721306,
          0.02726876176893711,
          0.046329911798238754,
          0.06868777424097061,
          0.04071050509810448,
          0.061123620718717575,
          -0.004752245265990496,
          -0.04571184143424034,
          -0.015995733439922333,
          0.04149166867136955,
          0.0061675976030528545,
          0.0039178309962153435,
          -0.015667933970689774,
          0.028427546843886375,
          -0.0011175021063536406,
          0.019074251875281334,
          0.03083200566470623,
          -0.004689950030297041,
          -0.002260214416310191,
          0.004515123087912798,
          0.00738490978255868,
          0.010941513814032078,
          0.03273671120405197,
          0.006171955727040768,
          0.0040857489220798016,
          0.0038872070144861937,
          0.005886964499950409,
          0.008911151438951492,
          0.09440498799085617,
          0.009798850864171982,
          -0.03678097575902939,
          -0.029341652989387512,
          -0.0389375202357769,
          -0.03727991133928299,
          -0.014838172122836113,
          0.017264951020479202,
          0.006864642258733511,
          -0.014202841557562351,
          0.06697651743888855,
          0.009447687305510044,
          -0.029915370047092438,
          -0.014522379264235497,
          0.006679367274045944,
          0.06395364552736282,
          -0.023540569469332695,
          -0.0250373724848032,
          -0.027929214760661125,
          -0.02674763835966587,
          -0.019359583035111427,
          -0.019018126651644707,
          -0.01911039836704731,
          -0.019141297787427902,
          -0.0166616290807724,
          0.005937401670962572,
          -0.017224600538611412,
          0.004650230519473553,
          0.008637105114758015,
          -0.017941847443580627,
          0.02097853645682335,
          -0.009081576950848103,
          -0.013867734931409359,
          -0.05021926015615463,
          -0.0357973575592041,
          -0.037218645215034485,
          -0.03307877480983734,
          -0.018598437309265137,
          -0.017549509182572365,
          -0.017281966283917427,
          -0.0040257712826132774,
          -0.01669221930205822,
          -0.008906221948564053,
          -0.013404689729213715,
          -0.016919845715165138,
          -0.006618478801101446,
          -0.017961952835321426,
          -0.026293834671378136,
          0.005434094928205013,
          -0.0008233926491811872,
          -0.0036518198903650045,
          0.03089989721775055,
          0.0066140699200332165,
          0.05648311972618103,
          -0.012673744931817055,
          -0.023694241419434547,
          -0.05321432277560234,
          -0.041199784725904465,
          -0.06035083904862404,
          0.0011462399270385504,
          -0.0011329142143949866,
          -0.0011354401940479875,
          0.0024222489446401596,
          0.008398277685046196,
          0.023358730599284172,
          0.06920254975557327,
          0.0117580471560359,
          0.00548290042206645,
          0.0019142600940540433,
          0.00024713599123060703,
          0.0027513718232512474,
          0.0029974423814564943,
          0.11420222371816635,
          -0.035479165613651276,
          -0.04102933406829834,
          -0.06167113780975342,
          -0.056692883372306824,
          -0.05603926256299019,
          -0.03131823241710663,
          -0.05980953946709633,
          -0.04586086422204971,
          0.010194498114287853,
          0.003372464794665575,
          -0.004515896085649729,
          0.012590601108968258,
          0.01280248537659645,
          -0.04510052129626274,
          0.031095260754227638,
          -0.044078439474105835,
          0.09896716475486755,
          0.012950001284480095,
          0.015517915599048138,
          0.020594824105501175,
          0.033005643635988235,
          0.014110705815255642,
          0.014213794842362404,
          0.012544146738946438,
          0.01976955123245716,
          0.02506740391254425,
          0.039077237248420715,
          -0.0018072010716423392,
          0.03619138523936272,
          0.09836716949939728,
          0.05432228371500969,
          -0.00451646838337183,
          -0.03805351257324219,
          -0.034055858850479126,
          -0.029615754261612892,
          -0.019335737451910973,
          -0.02778160199522972,
          -0.01845300942659378,
          0.0003346399462316185,
          -0.06503710895776749,
          -0.06743169575929642,
          0.03375133499503136,
          -0.0037541287019848824,
          -0.03248623013496399,
          -0.02826874516904354,
          0.01554916612803936,
          -0.05836347118020058,
          0.010449595749378204,
          0.02257367968559265,
          0.07701094448566437,
          -0.006784370634704828,
          0.01425535511225462,
          0.004298985004425049,
          0.11149412393569946,
          -0.029625505208969116,
          -0.03219012916088104,
          0.0017807346303015947,
          -0.002528778277337551,
          0.030110957100987434,
          -0.026571637019515038,
          0.0003894380643032491,
          -0.000598339072894305,
          0.027278004214167595,
          0.05133713036775589,
          0.013278939761221409,
          0.04579737409949303,
          0.07171030342578888,
          -0.03740681707859039,
          -0.02925848215818405,
          -0.02002260647714138,
          -0.027369193732738495,
          -0.0005383989191614091,
          -0.007662353105843067,
          -0.002736645517870784,
          -0.0457131564617157,
          -0.016621755436062813,
          -0.023053277283906937,
          -0.02854938618838787,
          -0.01656949520111084,
          -0.0257261972874403,
          -0.02676738053560257,
          -0.023878857493400574,
          -0.022804398089647293,
          -0.012468276545405388,
          -0.013886602595448494,
          -0.016247738152742386,
          -0.014369681477546692,
          -0.01424173079431057,
          0.13757705688476562,
          -0.006642294116318226,
          -0.007680160459131002,
          -0.03391788899898529,
          -0.01973465271294117,
          -0.03315739706158638,
          0.000477828667499125,
          0.005310343578457832,
          -0.02198883518576622,
          0.051583096385002136,
          0.03181679546833038,
          0.014096012338995934,
          -0.0063366056419909,
          -0.009462708607316017,
          0.0012625213712453842,
          0.011652438901364803,
          0.027277201414108276,
          0.046218834817409515,
          0.015887198969721794,
          0.0370824970304966,
          -0.007797889411449432,
          -0.044448044151067734,
          0.06004640460014343,
          0.033015523105859756,
          0.018956046551465988,
          0.011672680266201496,
          0.007570650428533554,
          0.004292775876820087,
          -0.01971828006207943,
          0.053158387541770935,
          0.044587839394807816,
          -0.05998677387833595,
          -0.011208481155335903,
          0.1364852488040924,
          0.0025857549626380205,
          -0.01078233402222395,
          0.0388861745595932,
          -0.03910539299249649,
          0.12812449038028717,
          0.019756704568862915,
          -0.05080690607428551,
          0.04581286758184433,
          0.06351791322231293,
          0.09728588163852692,
          0.06303911656141281,
          0.08893049508333206,
          0.004126966930925846,
          -0.04485005512833595,
          -0.007171498611569405,
          0.06742233783006668,
          0.021865973249077797,
          0.017754925414919853,
          -0.005744260735809803,
          0.05310170352458954,
          0.0031227595172822475,
          0.029952064156532288,
          0.04456183686852455,
          0.016335532069206238,
          0.01748812012374401,
          0.019953126087784767,
          0.05815929174423218,
          0.016543742269277573,
          0.0161545742303133,
          0.018026018515229225,
          0.022050464525818825,
          0.026041783392429352,
          0.12092173844575882,
          0.026875564828515053,
          -0.02147030644118786,
          -0.033524930477142334,
          -0.03394376114010811,
          0.03243105858564377,
          0.018987493589520454,
          -0.009494468569755554,
          0.08818777650594711,
          0.018704988062381744,
          -0.02572951652109623,
          0.01446179673075676,
          0.09136103838682175,
          -0.01784094236791134,
          -0.019004013389348984,
          -0.02173219434916973,
          -0.020588509738445282,
          -0.012593010440468788,
          -0.009653029032051563,
          -0.008959943428635597,
          -0.008427280932664871,
          -0.004492270760238171,
          0.02633585035800934,
          -0.012826687656342983,
          0.010353777557611465,
          0.016380205750465393,
          -0.009070532396435738,
          0.04161480441689491,
          -0.00606816541403532,
          -0.006782437674701214,
          -0.03357749432325363,
          -0.02749728038907051,
          -0.013996919617056847,
          0.00807399395853281,
          -0.0072656068950891495,
          0.0007809746894054115,
          0.0005824478575959802,
          -0.005401094444096088,
          0.009352262131869793,
          -0.013694874942302704,
          -0.019342850893735886,
          0.019545983523130417,
          0.010080722160637379,
          0.010989061556756496,
          0.05447246506810188,
          0.023812036961317062,
          0.08251624554395676,
          0.0010189227759838104,
          -0.017772356048226357,
          -0.0476006343960762,
          -0.034802019596099854,
          -0.055535055696964264,
          0.008786897175014019,
          0.009677646681666374,
          0.012761443853378296,
          0.019719664007425308,
          0.027882438153028488,
          0.044607337564229965,
          0.09878735989332199,
          0.031119054183363914,
          0.022251002490520477,
          0.01551636029034853,
          0.010906768962740898,
          0.010754511691629887,
          0.009447717107832432,
          0.14126496016979218,
          -0.029214760288596153,
          -0.03667306527495384,
          -0.05813264846801758,
          -0.05460703372955322,
          -0.0523674376308918,
          -0.026079919189214706,
          -0.05813436210155487,
          -0.044404927641153336,
          0.01721235364675522,
          0.008428633213043213,
          -0.0003416241961531341,
          0.03054065629839897,
          0.03215814381837845
         ]
        },
        {
         "hovertemplate": "type=left_hand<br>x=%{x}<br>y=%{y}<br>z=%{z}<extra></extra>",
         "legendgroup": "left_hand",
         "marker": {
          "color": "#EF553B",
          "symbol": "circle"
         },
         "mode": "markers",
         "name": "left_hand",
         "scene": "scene",
         "showlegend": true,
         "type": "scatter3d",
         "x": [
          null,
          null,
          null,
          null,
          null,
          null,
          null,
          null,
          null,
          null,
          null,
          null,
          null,
          null,
          null,
          null,
          null,
          null,
          null,
          null,
          null
         ],
         "y": [
          null,
          null,
          null,
          null,
          null,
          null,
          null,
          null,
          null,
          null,
          null,
          null,
          null,
          null,
          null,
          null,
          null,
          null,
          null,
          null,
          null
         ],
         "z": [
          null,
          null,
          null,
          null,
          null,
          null,
          null,
          null,
          null,
          null,
          null,
          null,
          null,
          null,
          null,
          null,
          null,
          null,
          null,
          null,
          null
         ]
        },
        {
         "hovertemplate": "type=pose<br>x=%{x}<br>y=%{y}<br>z=%{z}<extra></extra>",
         "legendgroup": "pose",
         "marker": {
          "color": "#00cc96",
          "symbol": "circle"
         },
         "mode": "markers",
         "name": "pose",
         "scene": "scene",
         "showlegend": true,
         "type": "scatter3d",
         "x": [
          0.4215412735939026,
          0.46983566880226135,
          0.49415332078933716,
          0.5155096054077148,
          0.388230562210083,
          0.3609008491039276,
          0.33486711978912354,
          0.5444431304931641,
          0.2964390516281128,
          0.4659167230129242,
          0.36822882294654846,
          0.7193345427513123,
          0.15463560819625854,
          0.8754453063011169,
          0.11771269887685776,
          0.5389438271522522,
          0.18163125216960907,
          0.4746793806552887,
          0.18822160363197327,
          0.5506742596626282,
          0.18490415811538696,
          0.47094208002090454,
          0.20658865571022034,
          0.6777883768081665,
          0.3230823278427124,
          0.7481198906898499,
          0.4081238806247711,
          0.7828349471092224,
          0.4619313180446625,
          0.7991742491722107,
          0.45670896768569946,
          0.7411044239997864,
          0.5138000845909119
         ],
         "y": [
          0.3443298637866974,
          0.3033530116081238,
          0.30607742071151733,
          0.3085835874080658,
          0.28926414251327515,
          0.2844667136669159,
          0.2807390093803406,
          0.32537248730659485,
          0.2984258830547333,
          0.3986623287200928,
          0.38856539130210876,
          0.5083616971969604,
          0.5325334072113037,
          0.8559607267379761,
          0.8778519630432129,
          0.7088718414306641,
          0.8406782746315002,
          0.6873027086257935,
          0.7971378564834595,
          0.6651815176010132,
          0.7481908202171326,
          0.6270293593406677,
          0.7572081685066223,
          1.0132825374603271,
          1.1011316776275635,
          1.555541753768921,
          1.5726890563964844,
          1.9788373708724976,
          1.987334966659546,
          2.0330026149749756,
          2.0396931171417236,
          2.1220438480377197,
          2.132246732711792
         ],
         "z": [
          -1.3964308500289917,
          -1.34757661819458,
          -1.3479024171829224,
          -1.3483906984329224,
          -1.334761142730713,
          -1.333986759185791,
          -1.334251046180725,
          -0.7969427108764648,
          -0.7233461141586304,
          -1.171864628791809,
          -1.1547826528549194,
          -0.49666208028793335,
          -0.14660799503326416,
          -0.808066189289093,
          -0.6278954148292542,
          -1.4602502584457397,
          -2.0375304222106934,
          -1.6164451837539673,
          -2.243602752685547,
          -1.5439577102661133,
          -2.249060869216919,
          -1.4400594234466553,
          -2.0715904235839844,
          -0.1819077432155609,
          0.18707577884197235,
          -0.04384257644414902,
          0.39386361837387085,
          0.7877219319343567,
          1.1201786994934082,
          0.8220676779747009,
          1.1733778715133667,
          -0.0002467787417117506,
          0.29004746675491333
         ]
        },
        {
         "hovertemplate": "type=right_hand<br>x=%{x}<br>y=%{y}<br>z=%{z}<extra></extra>",
         "legendgroup": "right_hand",
         "marker": {
          "color": "#ab63fa",
          "symbol": "circle"
         },
         "mode": "markers",
         "name": "right_hand",
         "scene": "scene",
         "showlegend": true,
         "type": "scatter3d",
         "x": [
          null,
          null,
          null,
          null,
          null,
          null,
          null,
          null,
          null,
          null,
          null,
          null,
          null,
          null,
          null,
          null,
          null,
          null,
          null,
          null,
          null
         ],
         "y": [
          null,
          null,
          null,
          null,
          null,
          null,
          null,
          null,
          null,
          null,
          null,
          null,
          null,
          null,
          null,
          null,
          null,
          null,
          null,
          null,
          null
         ],
         "z": [
          null,
          null,
          null,
          null,
          null,
          null,
          null,
          null,
          null,
          null,
          null,
          null,
          null,
          null,
          null,
          null,
          null,
          null,
          null,
          null,
          null
         ]
        }
       ],
       "layout": {
        "legend": {
         "title": {
          "text": "type"
         },
         "tracegroupgap": 0
        },
        "margin": {
         "t": 60
        },
        "scene": {
         "domain": {
          "x": [
           0,
           1
          ],
          "y": [
           0,
           1
          ]
         },
         "xaxis": {
          "title": {
           "text": "x"
          }
         },
         "yaxis": {
          "title": {
           "text": "y"
          }
         },
         "zaxis": {
          "title": {
           "text": "z"
          }
         }
        },
        "template": {
         "data": {
          "bar": [
           {
            "error_x": {
             "color": "#2a3f5f"
            },
            "error_y": {
             "color": "#2a3f5f"
            },
            "marker": {
             "line": {
              "color": "#E5ECF6",
              "width": 0.5
             },
             "pattern": {
              "fillmode": "overlay",
              "size": 10,
              "solidity": 0.2
             }
            },
            "type": "bar"
           }
          ],
          "barpolar": [
           {
            "marker": {
             "line": {
              "color": "#E5ECF6",
              "width": 0.5
             },
             "pattern": {
              "fillmode": "overlay",
              "size": 10,
              "solidity": 0.2
             }
            },
            "type": "barpolar"
           }
          ],
          "carpet": [
           {
            "aaxis": {
             "endlinecolor": "#2a3f5f",
             "gridcolor": "white",
             "linecolor": "white",
             "minorgridcolor": "white",
             "startlinecolor": "#2a3f5f"
            },
            "baxis": {
             "endlinecolor": "#2a3f5f",
             "gridcolor": "white",
             "linecolor": "white",
             "minorgridcolor": "white",
             "startlinecolor": "#2a3f5f"
            },
            "type": "carpet"
           }
          ],
          "choropleth": [
           {
            "colorbar": {
             "outlinewidth": 0,
             "ticks": ""
            },
            "type": "choropleth"
           }
          ],
          "contour": [
           {
            "colorbar": {
             "outlinewidth": 0,
             "ticks": ""
            },
            "colorscale": [
             [
              0,
              "#0d0887"
             ],
             [
              0.1111111111111111,
              "#46039f"
             ],
             [
              0.2222222222222222,
              "#7201a8"
             ],
             [
              0.3333333333333333,
              "#9c179e"
             ],
             [
              0.4444444444444444,
              "#bd3786"
             ],
             [
              0.5555555555555556,
              "#d8576b"
             ],
             [
              0.6666666666666666,
              "#ed7953"
             ],
             [
              0.7777777777777778,
              "#fb9f3a"
             ],
             [
              0.8888888888888888,
              "#fdca26"
             ],
             [
              1,
              "#f0f921"
             ]
            ],
            "type": "contour"
           }
          ],
          "contourcarpet": [
           {
            "colorbar": {
             "outlinewidth": 0,
             "ticks": ""
            },
            "type": "contourcarpet"
           }
          ],
          "heatmap": [
           {
            "colorbar": {
             "outlinewidth": 0,
             "ticks": ""
            },
            "colorscale": [
             [
              0,
              "#0d0887"
             ],
             [
              0.1111111111111111,
              "#46039f"
             ],
             [
              0.2222222222222222,
              "#7201a8"
             ],
             [
              0.3333333333333333,
              "#9c179e"
             ],
             [
              0.4444444444444444,
              "#bd3786"
             ],
             [
              0.5555555555555556,
              "#d8576b"
             ],
             [
              0.6666666666666666,
              "#ed7953"
             ],
             [
              0.7777777777777778,
              "#fb9f3a"
             ],
             [
              0.8888888888888888,
              "#fdca26"
             ],
             [
              1,
              "#f0f921"
             ]
            ],
            "type": "heatmap"
           }
          ],
          "heatmapgl": [
           {
            "colorbar": {
             "outlinewidth": 0,
             "ticks": ""
            },
            "colorscale": [
             [
              0,
              "#0d0887"
             ],
             [
              0.1111111111111111,
              "#46039f"
             ],
             [
              0.2222222222222222,
              "#7201a8"
             ],
             [
              0.3333333333333333,
              "#9c179e"
             ],
             [
              0.4444444444444444,
              "#bd3786"
             ],
             [
              0.5555555555555556,
              "#d8576b"
             ],
             [
              0.6666666666666666,
              "#ed7953"
             ],
             [
              0.7777777777777778,
              "#fb9f3a"
             ],
             [
              0.8888888888888888,
              "#fdca26"
             ],
             [
              1,
              "#f0f921"
             ]
            ],
            "type": "heatmapgl"
           }
          ],
          "histogram": [
           {
            "marker": {
             "pattern": {
              "fillmode": "overlay",
              "size": 10,
              "solidity": 0.2
             }
            },
            "type": "histogram"
           }
          ],
          "histogram2d": [
           {
            "colorbar": {
             "outlinewidth": 0,
             "ticks": ""
            },
            "colorscale": [
             [
              0,
              "#0d0887"
             ],
             [
              0.1111111111111111,
              "#46039f"
             ],
             [
              0.2222222222222222,
              "#7201a8"
             ],
             [
              0.3333333333333333,
              "#9c179e"
             ],
             [
              0.4444444444444444,
              "#bd3786"
             ],
             [
              0.5555555555555556,
              "#d8576b"
             ],
             [
              0.6666666666666666,
              "#ed7953"
             ],
             [
              0.7777777777777778,
              "#fb9f3a"
             ],
             [
              0.8888888888888888,
              "#fdca26"
             ],
             [
              1,
              "#f0f921"
             ]
            ],
            "type": "histogram2d"
           }
          ],
          "histogram2dcontour": [
           {
            "colorbar": {
             "outlinewidth": 0,
             "ticks": ""
            },
            "colorscale": [
             [
              0,
              "#0d0887"
             ],
             [
              0.1111111111111111,
              "#46039f"
             ],
             [
              0.2222222222222222,
              "#7201a8"
             ],
             [
              0.3333333333333333,
              "#9c179e"
             ],
             [
              0.4444444444444444,
              "#bd3786"
             ],
             [
              0.5555555555555556,
              "#d8576b"
             ],
             [
              0.6666666666666666,
              "#ed7953"
             ],
             [
              0.7777777777777778,
              "#fb9f3a"
             ],
             [
              0.8888888888888888,
              "#fdca26"
             ],
             [
              1,
              "#f0f921"
             ]
            ],
            "type": "histogram2dcontour"
           }
          ],
          "mesh3d": [
           {
            "colorbar": {
             "outlinewidth": 0,
             "ticks": ""
            },
            "type": "mesh3d"
           }
          ],
          "parcoords": [
           {
            "line": {
             "colorbar": {
              "outlinewidth": 0,
              "ticks": ""
             }
            },
            "type": "parcoords"
           }
          ],
          "pie": [
           {
            "automargin": true,
            "type": "pie"
           }
          ],
          "scatter": [
           {
            "fillpattern": {
             "fillmode": "overlay",
             "size": 10,
             "solidity": 0.2
            },
            "type": "scatter"
           }
          ],
          "scatter3d": [
           {
            "line": {
             "colorbar": {
              "outlinewidth": 0,
              "ticks": ""
             }
            },
            "marker": {
             "colorbar": {
              "outlinewidth": 0,
              "ticks": ""
             }
            },
            "type": "scatter3d"
           }
          ],
          "scattercarpet": [
           {
            "marker": {
             "colorbar": {
              "outlinewidth": 0,
              "ticks": ""
             }
            },
            "type": "scattercarpet"
           }
          ],
          "scattergeo": [
           {
            "marker": {
             "colorbar": {
              "outlinewidth": 0,
              "ticks": ""
             }
            },
            "type": "scattergeo"
           }
          ],
          "scattergl": [
           {
            "marker": {
             "colorbar": {
              "outlinewidth": 0,
              "ticks": ""
             }
            },
            "type": "scattergl"
           }
          ],
          "scattermapbox": [
           {
            "marker": {
             "colorbar": {
              "outlinewidth": 0,
              "ticks": ""
             }
            },
            "type": "scattermapbox"
           }
          ],
          "scatterpolar": [
           {
            "marker": {
             "colorbar": {
              "outlinewidth": 0,
              "ticks": ""
             }
            },
            "type": "scatterpolar"
           }
          ],
          "scatterpolargl": [
           {
            "marker": {
             "colorbar": {
              "outlinewidth": 0,
              "ticks": ""
             }
            },
            "type": "scatterpolargl"
           }
          ],
          "scatterternary": [
           {
            "marker": {
             "colorbar": {
              "outlinewidth": 0,
              "ticks": ""
             }
            },
            "type": "scatterternary"
           }
          ],
          "surface": [
           {
            "colorbar": {
             "outlinewidth": 0,
             "ticks": ""
            },
            "colorscale": [
             [
              0,
              "#0d0887"
             ],
             [
              0.1111111111111111,
              "#46039f"
             ],
             [
              0.2222222222222222,
              "#7201a8"
             ],
             [
              0.3333333333333333,
              "#9c179e"
             ],
             [
              0.4444444444444444,
              "#bd3786"
             ],
             [
              0.5555555555555556,
              "#d8576b"
             ],
             [
              0.6666666666666666,
              "#ed7953"
             ],
             [
              0.7777777777777778,
              "#fb9f3a"
             ],
             [
              0.8888888888888888,
              "#fdca26"
             ],
             [
              1,
              "#f0f921"
             ]
            ],
            "type": "surface"
           }
          ],
          "table": [
           {
            "cells": {
             "fill": {
              "color": "#EBF0F8"
             },
             "line": {
              "color": "white"
             }
            },
            "header": {
             "fill": {
              "color": "#C8D4E3"
             },
             "line": {
              "color": "white"
             }
            },
            "type": "table"
           }
          ]
         },
         "layout": {
          "annotationdefaults": {
           "arrowcolor": "#2a3f5f",
           "arrowhead": 0,
           "arrowwidth": 1
          },
          "autotypenumbers": "strict",
          "coloraxis": {
           "colorbar": {
            "outlinewidth": 0,
            "ticks": ""
           }
          },
          "colorscale": {
           "diverging": [
            [
             0,
             "#8e0152"
            ],
            [
             0.1,
             "#c51b7d"
            ],
            [
             0.2,
             "#de77ae"
            ],
            [
             0.3,
             "#f1b6da"
            ],
            [
             0.4,
             "#fde0ef"
            ],
            [
             0.5,
             "#f7f7f7"
            ],
            [
             0.6,
             "#e6f5d0"
            ],
            [
             0.7,
             "#b8e186"
            ],
            [
             0.8,
             "#7fbc41"
            ],
            [
             0.9,
             "#4d9221"
            ],
            [
             1,
             "#276419"
            ]
           ],
           "sequential": [
            [
             0,
             "#0d0887"
            ],
            [
             0.1111111111111111,
             "#46039f"
            ],
            [
             0.2222222222222222,
             "#7201a8"
            ],
            [
             0.3333333333333333,
             "#9c179e"
            ],
            [
             0.4444444444444444,
             "#bd3786"
            ],
            [
             0.5555555555555556,
             "#d8576b"
            ],
            [
             0.6666666666666666,
             "#ed7953"
            ],
            [
             0.7777777777777778,
             "#fb9f3a"
            ],
            [
             0.8888888888888888,
             "#fdca26"
            ],
            [
             1,
             "#f0f921"
            ]
           ],
           "sequentialminus": [
            [
             0,
             "#0d0887"
            ],
            [
             0.1111111111111111,
             "#46039f"
            ],
            [
             0.2222222222222222,
             "#7201a8"
            ],
            [
             0.3333333333333333,
             "#9c179e"
            ],
            [
             0.4444444444444444,
             "#bd3786"
            ],
            [
             0.5555555555555556,
             "#d8576b"
            ],
            [
             0.6666666666666666,
             "#ed7953"
            ],
            [
             0.7777777777777778,
             "#fb9f3a"
            ],
            [
             0.8888888888888888,
             "#fdca26"
            ],
            [
             1,
             "#f0f921"
            ]
           ]
          },
          "colorway": [
           "#636efa",
           "#EF553B",
           "#00cc96",
           "#ab63fa",
           "#FFA15A",
           "#19d3f3",
           "#FF6692",
           "#B6E880",
           "#FF97FF",
           "#FECB52"
          ],
          "font": {
           "color": "#2a3f5f"
          },
          "geo": {
           "bgcolor": "white",
           "lakecolor": "white",
           "landcolor": "#E5ECF6",
           "showlakes": true,
           "showland": true,
           "subunitcolor": "white"
          },
          "hoverlabel": {
           "align": "left"
          },
          "hovermode": "closest",
          "mapbox": {
           "style": "light"
          },
          "paper_bgcolor": "white",
          "plot_bgcolor": "#E5ECF6",
          "polar": {
           "angularaxis": {
            "gridcolor": "white",
            "linecolor": "white",
            "ticks": ""
           },
           "bgcolor": "#E5ECF6",
           "radialaxis": {
            "gridcolor": "white",
            "linecolor": "white",
            "ticks": ""
           }
          },
          "scene": {
           "xaxis": {
            "backgroundcolor": "#E5ECF6",
            "gridcolor": "white",
            "gridwidth": 2,
            "linecolor": "white",
            "showbackground": true,
            "ticks": "",
            "zerolinecolor": "white"
           },
           "yaxis": {
            "backgroundcolor": "#E5ECF6",
            "gridcolor": "white",
            "gridwidth": 2,
            "linecolor": "white",
            "showbackground": true,
            "ticks": "",
            "zerolinecolor": "white"
           },
           "zaxis": {
            "backgroundcolor": "#E5ECF6",
            "gridcolor": "white",
            "gridwidth": 2,
            "linecolor": "white",
            "showbackground": true,
            "ticks": "",
            "zerolinecolor": "white"
           }
          },
          "shapedefaults": {
           "line": {
            "color": "#2a3f5f"
           }
          },
          "ternary": {
           "aaxis": {
            "gridcolor": "white",
            "linecolor": "white",
            "ticks": ""
           },
           "baxis": {
            "gridcolor": "white",
            "linecolor": "white",
            "ticks": ""
           },
           "bgcolor": "#E5ECF6",
           "caxis": {
            "gridcolor": "white",
            "linecolor": "white",
            "ticks": ""
           }
          },
          "title": {
           "x": 0.05
          },
          "xaxis": {
           "automargin": true,
           "gridcolor": "white",
           "linecolor": "white",
           "ticks": "",
           "title": {
            "standoff": 15
           },
           "zerolinecolor": "white",
           "zerolinewidth": 2
          },
          "yaxis": {
           "automargin": true,
           "gridcolor": "white",
           "linecolor": "white",
           "ticks": "",
           "title": {
            "standoff": 15
           },
           "zerolinecolor": "white",
           "zerolinewidth": 2
          }
         }
        }
       }
      }
     },
     "metadata": {},
     "output_type": "display_data"
    }
   ],
   "source": [
    "import plotly.express as px #this is worth checking out. it's a 3d plot of the landmarks. could be used for demo\n",
    "\n",
    "example_frame = example_landmark.query(\"frame == 25\")\n",
    "px.scatter_3d(example_frame, x=\"x\", y=\"y\", z=\"z\", color=\"type\")"
   ]
  },
  {
   "cell_type": "code",
   "execution_count": 24,
   "metadata": {},
   "outputs": [
    {
     "data": {
      "application/vnd.plotly.v1+json": {
       "config": {
        "plotlyServerURL": "https://plot.ly"
       },
       "data": [
        {
         "hovertemplate": "type=face<br>x=%{x}<br>y_=%{y}<extra></extra>",
         "legendgroup": "face",
         "marker": {
          "color": "#636efa",
          "symbol": "circle"
         },
         "mode": "markers",
         "name": "face",
         "orientation": "v",
         "showlegend": true,
         "type": "scatter",
         "x": [
          0.4272492527961731,
          0.43166282773017883,
          0.42373421788215637,
          0.4233693778514862,
          0.4345952272415161,
          0.4357866942882538,
          0.43630915880203247,
          0.3314066529273987,
          0.4417411684989929,
          0.44558390974998474,
          0.4584703743457794,
          0.4263850152492523,
          0.4244031310081482,
          0.422271728515625,
          0.42150792479515076,
          0.42119890451431274,
          0.4199700653553009,
          0.417980432510376,
          0.4019543528556824,
          0.42869770526885986,
          0.41426631808280945,
          0.2840838134288788,
          0.3703940510749817,
          0.35623466968536377,
          0.342451274394989,
          0.32396242022514343,
          0.38272127509117126,
          0.3560327887535095,
          0.3719337284564972,
          0.34008628129959106,
          0.32859566807746887,
          0.31095966696739197,
          0.3454645574092865,
          0.3261854350566864,
          0.2627047300338745,
          0.29534897208213806,
          0.3509044349193573,
          0.4098835289478302,
          0.4101015329360962,
          0.3908877372741699,
          0.3805500268936157,
          0.3975529372692108,
          0.38918864727020264,
          0.34229397773742676,
          0.42089542746543884,
          0.4212470054626465,
          0.3099824786186218,
          0.38505813479423523,
          0.38402318954467773,
          0.3821926414966583,
          0.3045142590999603,
          0.42287677526474,
          0.34817707538604736,
          0.32649922370910645,
          0.3064911365509033,
          0.410616934299469,
          0.38460513949394226,
          0.33453667163848877,
          0.24865074455738068,
          0.3935215473175049,
          0.40383675694465637,
          0.37382739782333374,
          0.3781842291355133,
          0.31974223256111145,
          0.3816581964492798,
          0.3755514621734619,
          0.3751804530620575,
          0.37409892678260803,
          0.31592264771461487,
          0.37789061665534973,
          0.30166807770729065,
          0.2944037616252899,
          0.40972766280174255,
          0.39402759075164795,
          0.38460877537727356,
          0.39593157172203064,
          0.3761735260486603,
          0.3802538812160492,
          0.3801008462905884,
          0.40209659934043884,
          0.3926261067390442,
          0.40056344866752625,
          0.4107012152671814,
          0.38262322545051575,
          0.4011971652507782,
          0.4044525623321533,
          0.40743789076805115,
          0.4098469614982605,
          0.39264634251594543,
          0.3890816271305084,
          0.38447123765945435,
          0.3800383508205414,
          0.35654810070991516,
          0.24356794357299805,
          0.42620763182640076,
          0.38691434264183044,
          0.38403797149658203,
          0.4064456522464752,
          0.38333484530448914,
          0.4053138494491577,
          0.36813339591026306,
          0.3427615761756897,
          0.3783048391342163,
          0.3352621793746948,
          0.34255820512771606,
          0.3446618616580963,
          0.3512827157974243,
          0.4094969630241394,
          0.4128071665763855,
          0.4139161705970764,
          0.33065491914749146,
          0.29421114921569824,
          0.3909193277359009,
          0.3127371370792389,
          0.39725127816200256,
          0.3940803110599518,
          0.2716684937477112,
          0.3034038543701172,
          0.3220309615135193,
          0.3503338694572449,
          0.3715227246284485,
          0.3876376152038574,
          0.42182162404060364,
          0.2678273916244507,
          0.3015945255756378,
          0.4220089316368103,
          0.38542628288269043,
          0.2556530833244324,
          0.40027862787246704,
          0.375238835811615,
          0.31887367367744446,
          0.3929411470890045,
          0.24304310977458954,
          0.39096763730049133,
          0.40799540281295776,
          0.28277742862701416,
          0.2758037745952606,
          0.24861353635787964,
          0.2654160261154175,
          0.27806809544563293,
          0.33935630321502686,
          0.42125409841537476,
          0.3706866204738617,
          0.28175556659698486,
          0.3453645408153534,
          0.3572758734226227,
          0.3762648105621338,
          0.2650122046470642,
          0.36036625504493713,
          0.3172032833099365,
          0.2980117201805115,
          0.45213690400123596,
          0.3885669410228729,
          0.36895519495010376,
          0.37995997071266174,
          0.38726016879081726,
          0.29070574045181274,
          0.379547119140625,
          0.3679640293121338,
          0.35623598098754883,
          0.34392112493515015,
          0.33557361364364624,
          0.26792681217193604,
          0.33723151683807373,
          0.42187070846557617,
          0.3722822666168213,
          0.39428314566612244,
          0.40229523181915283,
          0.4380701184272766,
          0.30205512046813965,
          0.31915661692619324,
          0.3637501001358032,
          0.26015543937683105,
          0.3874977231025696,
          0.4098655581474304,
          0.3919142782688141,
          0.33742770552635193,
          0.24727381765842438,
          0.4001843333244324,
          0.3966180384159088,
          0.39218148589134216,
          0.3880842626094818,
          0.3642326891422272,
          0.38329029083251953,
          0.3790716230869293,
          0.37505990266799927,
          0.343820720911026,
          0.28597021102905273,
          0.4098898470401764,
          0.4047411382198334,
          0.3948432207107544,
          0.38684728741645813,
          0.27853554487228394,
          0.41976404190063477,
          0.3531189262866974,
          0.43584778904914856,
          0.4224914312362671,
          0.4359133243560791,
          0.39620649814605713,
          0.3952381908893585,
          0.3985876739025116,
          0.37528136372566223,
          0.3269561529159546,
          0.36059725284576416,
          0.33767783641815186,
          0.3242913484573364,
          0.34421563148498535,
          0.3080791234970093,
          0.3690490424633026,
          0.3853762745857239,
          0.31187179684638977,
          0.32708853483200073,
          0.3187646269798279,
          0.26545459032058716,
          0.29692965745925903,
          0.251933753490448,
          0.3301240801811218,
          0.3977176249027252,
          0.3985353708267212,
          0.38835573196411133,
          0.40756094455718994,
          0.39534956216812134,
          0.373432993888855,
          0.3528895974159241,
          0.33477628231048584,
          0.3209027647972107,
          0.3088008761405945,
          0.2537083923816681,
          0.3183782696723938,
          0.33319056034088135,
          0.3527010679244995,
          0.3711705803871155,
          0.38577768206596375,
          0.39615288376808167,
          0.24879135191440582,
          0.3873785138130188,
          0.4098910689353943,
          0.4102453291416168,
          0.4146258533000946,
          0.4084741473197937,
          0.38931727409362793,
          0.41755926609039307,
          0.4170500636100769,
          0.39654600620269775,
          0.40483734011650085,
          0.4104243218898773,
          0.33037155866622925,
          0.3204878866672516,
          0.44575512409210205,
          0.5221428275108337,
          0.43734678626060486,
          0.5668548345565796,
          0.48591476678848267,
          0.4983733296394348,
          0.510164201259613,
          0.5257711410522461,
          0.4756930470466614,
          0.5121417045593262,
          0.4969292879104614,
          0.5252384543418884,
          0.5324859619140625,
          0.5331337451934814,
          0.44105270504951477,
          0.5265810489654541,
          0.5609637498855591,
          0.5448271036148071,
          0.4880966544151306,
          0.44252848625183105,
          0.4355069696903229,
          0.45464521646499634,
          0.4581797122955322,
          0.44316670298576355,
          0.4469296634197235,
          0.46279364824295044,
          0.44108831882476807,
          0.44537270069122314,
          0.5500538349151611,
          0.46749237179756165,
          0.4645918905735016,
          0.4664192199707031,
          0.5250867605209351,
          0.44655099511146545,
          0.5278009176254272,
          0.5426596999168396,
          0.563087522983551,
          0.4711853265762329,
          0.48282891511917114,
          0.47432419657707214,
          0.5200012922286987,
          0.4532604217529297,
          0.44293925166130066,
          0.4539530873298645,
          0.4501301348209381,
          0.5489011406898499,
          0.46248412132263184,
          0.5051608085632324,
          0.5093221068382263,
          0.5285511612892151,
          0.5554649829864502,
          0.5166410207748413,
          0.5555390119552612,
          0.5621583461761475,
          0.4399433135986328,
          0.44941964745521545,
          0.4531554877758026,
          0.4493859112262726,
          0.452049195766449,
          0.45043376088142395,
          0.44852668046951294,
          0.4513361155986786,
          0.44137799739837646,
          0.4374147355556488,
          0.43102991580963135,
          0.4192796051502228,
          0.43222466111183167,
          0.4331134259700775,
          0.4323863983154297,
          0.43060302734375,
          0.4411066472530365,
          0.44456472992897034,
          0.4482734203338623,
          0.45098260045051575,
          0.4686119556427002,
          0.5437583923339844,
          0.44405612349510193,
          0.4471501410007477,
          0.4393283426761627,
          0.4567693769931793,
          0.44107168912887573,
          0.4795171618461609,
          0.4990918040275574,
          0.46623843908309937,
          0.5518487691879272,
          0.5414963960647583,
          0.5331259369850159,
          0.45113077759742737,
          0.4791511297225952,
          0.48749393224716187,
          0.49860915541648865,
          0.5197674632072449,
          0.5427341461181641,
          0.46926429867744446,
          0.5410261750221252,
          0.4601415991783142,
          0.46053439378738403,
          0.5541495084762573,
          0.53632652759552,
          0.5225498676300049,
          0.4996037483215332,
          0.48228394985198975,
          0.469820499420166,
          0.44736963510513306,
          0.550029456615448,
          0.5484036207199097,
          0.4344424903392792,
          0.465043306350708,
          0.5575698614120483,
          0.4615840017795563,
          0.46660637855529785,
          0.5319284200668335,
          0.4621497690677643,
          0.5343302488327026,
          0.46912091970443726,
          0.4549337923526764,
          0.49548232555389404,
          0.48918455839157104,
          0.553817629814148,
          0.5135797262191772,
          0.5626981258392334,
          0.43969500064849854,
          0.4309835731983185,
          0.4740729033946991,
          0.5507476925849915,
          0.5106022357940674,
          0.5000733137130737,
          0.45324862003326416,
          0.5423070192337036,
          0.41444090008735657,
          0.45218995213508606,
          0.46910935640335083,
          0.4894048273563385,
          0.4793645143508911,
          0.47266650199890137,
          0.5537350177764893,
          0.48154398798942566,
          0.49294862151145935,
          0.504196047782898,
          0.514771044254303,
          0.5210061073303223,
          0.5651271939277649,
          0.5174717903137207,
          0.4601646363735199,
          0.454688161611557,
          0.43916165828704834,
          0.4756985008716583,
          0.458196222782135,
          0.4176086485385895,
          0.5046781301498413,
          0.4732804298400879,
          0.45326972007751465,
          0.4345952570438385,
          0.5447594523429871,
          0.43717941641807556,
          0.4401393234729767,
          0.44274964928627014,
          0.4439029097557068,
          0.43692246079444885,
          0.44859078526496887,
          0.4533846080303192,
          0.4579710364341736,
          0.4735598862171173,
          0.527026355266571,
          0.453768253326416,
          0.4636598527431488,
          0.46967047452926636,
          0.44399169087409973,
          0.5168808698654175,
          0.4548266530036926,
          0.43981701135635376,
          0.4463759660720825,
          0.4595305621623993,
          0.4191858768463135,
          0.47088760137557983,
          0.47491729259490967,
          0.4565989673137665,
          0.5043038725852966,
          0.48334383964538574,
          0.5079945921897888,
          0.4189433753490448,
          0.4642520546913147,
          0.47708407044410706,
          0.45949602127075195,
          0.4847680926322937,
          0.5321804285049438,
          0.49866172671318054,
          0.5314547419548035,
          0.4872961640357971,
          0.45907941460609436,
          0.45578742027282715,
          0.46003496646881104,
          0.45372194051742554,
          0.47696518898010254,
          0.5002044439315796,
          0.5192720293998718,
          0.5331937670707703,
          0.5408180952072144,
          0.5376299619674683,
          0.5585100650787354,
          0.5273391008377075,
          0.5153409242630005,
          0.49916133284568787,
          0.48357751965522766,
          0.4717722535133362,
          0.46419042348861694,
          0.5498045682907104,
          0.4578678011894226,
          0.45368707180023193,
          0.44849517941474915,
          0.4397541284561157,
          0.4471178650856018,
          0.45353448390960693,
          0.4378984868526459,
          0.4345932900905609,
          0.4652080535888672,
          0.45907384157180786,
          0.4562886953353882,
          0.5243512392044067,
          0.5354431867599487
         ],
         "xaxis": "x",
         "y": [
          -0.38230663537979126,
          -0.358013391494751,
          -0.36870473623275757,
          -0.3244880735874176,
          -0.34784016013145447,
          -0.3350988030433655,
          -0.30357927083969116,
          -0.2831834554672241,
          -0.27127787470817566,
          -0.2555616497993469,
          -0.19939756393432617,
          -0.38845816254615784,
          -0.39631712436676025,
          -0.40271809697151184,
          -0.41294580698013306,
          -0.41872355341911316,
          -0.42585068941116333,
          -0.4332388937473297,
          -0.44474294781684875,
          -0.36363235116004944,
          -0.36236974596977234,
          -0.22523047029972076,
          -0.29724037647247314,
          -0.29655179381370544,
          -0.2942167818546295,
          -0.2853374481201172,
          -0.29610347747802734,
          -0.26150161027908325,
          -0.265325665473938,
          -0.2609792649745941,
          -0.2640122175216675,
          -0.2892816662788391,
          -0.44858986139297485,
          -0.27934378385543823,
          -0.2736004889011383,
          -0.27686500549316406,
          -0.33974480628967285,
          -0.37976327538490295,
          -0.3962319493293762,
          -0.38697466254234314,
          -0.39525172114372253,
          -0.39871135354042053,
          -0.402484655380249,
          -0.41054293513298035,
          -0.3564891517162323,
          -0.34647616744041443,
          -0.24735650420188904,
          -0.3186745047569275,
          -0.34963396191596985,
          -0.3442141115665436,
          -0.33235618472099304,
          -0.3344617784023285,
          -0.24087843298912048,
          -0.24137400090694427,
          -0.2081301510334015,
          -0.26191604137420654,
          -0.27225154638290405,
          -0.39771777391433716,
          -0.3797161877155304,
          -0.3570718467235565,
          -0.36189526319503784,
          -0.4098014533519745,
          -0.4097009003162384,
          -0.23180794715881348,
          -0.3540692627429962,
          -0.24656078219413757,
          -0.23678258061408997,
          -0.19177159667015076,
          -0.21996420621871948,
          -0.21456725895404816,
          -0.23984965682029724,
          -0.2331557422876358,
          -0.3879510164260864,
          -0.3928729295730591,
          -0.3988122045993805,
          -0.3594798445701599,
          -0.4097607135772705,
          -0.41196197271347046,
          -0.40959951281547546,
          -0.35443115234375,
          -0.4051976799964905,
          -0.40305089950561523,
          -0.40205439925193787,
          -0.4405384659767151,
          -0.42987939715385437,
          -0.4228537082672119,
          -0.4160761833190918,
          -0.41125139594078064,
          -0.4099609851837158,
          -0.41204404830932617,
          -0.4146725535392761,
          -0.4179118871688843,
          -0.37982243299484253,
          -0.3199634253978729,
          -0.3662227988243103,
          -0.40997615456581116,
          -0.4108947515487671,
          -0.36615318059921265,
          -0.36060845851898193,
          -0.3641304075717926,
          -0.321897029876709,
          -0.3249579071998596,
          -0.348438560962677,
          -0.1964951455593109,
          -0.21300184726715088,
          -0.23069550096988678,
          -0.42145225405693054,
          -0.24589215219020844,
          -0.22076493501663208,
          -0.19326180219650269,
          -0.29046568274497986,
          -0.29393234848976135,
          -0.294345885515213,
          -0.26564958691596985,
          -0.31386876106262207,
          -0.3469300866127014,
          -0.2986918091773987,
          -0.3043992519378662,
          -0.3121490180492401,
          -0.314777135848999,
          -0.3132975697517395,
          -0.3104170858860016,
          -0.30394604802131653,
          -0.32233044505119324,
          -0.26081734895706177,
          -0.36249780654907227,
          -0.3289312422275543,
          -0.270089715719223,
          -0.3062557280063629,
          -0.348794162273407,
          -0.27735161781311035,
          -0.3403594493865967,
          -0.34820255637168884,
          -0.29034075140953064,
          -0.33627015352249146,
          -0.4151085615158081,
          -0.4269745647907257,
          -0.32076719403266907,
          -0.3965543806552887,
          -0.25196579098701477,
          -0.4592457413673401,
          -0.36521703004837036,
          -0.3343169093132019,
          -0.27609434723854065,
          -0.2884083688259125,
          -0.2903664708137512,
          -0.4134707450866699,
          -0.34506088495254517,
          -0.47821974754333496,
          -0.45720812678337097,
          -0.4449472725391388,
          -0.22777970135211945,
          -0.48382431268692017,
          -0.2908840775489807,
          -0.2905801236629486,
          -0.29062777757644653,
          -0.25565147399902344,
          -0.28205403685569763,
          -0.2779344618320465,
          -0.27593231201171875,
          -0.27574893832206726,
          -0.2769526243209839,
          -0.24507209658622742,
          -0.28583377599716187,
          -0.37633994221687317,
          -0.374883234500885,
          -0.355257511138916,
          -0.37457147240638733,
          -0.28779497742652893,
          -0.4319249093532562,
          -0.4454999268054962,
          -0.4705117642879486,
          -0.40655311942100525,
          -0.2871290147304535,
          -0.3184822201728821,
          -0.47692427039146423,
          -0.4686623811721802,
          -0.3464997708797455,
          -0.4101363718509674,
          -0.4136604070663452,
          -0.41838371753692627,
          -0.4241877496242523,
          -0.43205299973487854,
          -0.4062715768814087,
          -0.40463390946388245,
          -0.4027149975299835,
          -0.3874973952770233,
          -0.3543911874294281,
          -0.30817821621894836,
          -0.282926470041275,
          -0.28326255083084106,
          -0.40740859508514404,
          -0.38163885474205017,
          -0.2846446633338928,
          -0.43944957852363586,
          -0.3247170150279999,
          -0.3151029348373413,
          -0.3149486184120178,
          -0.33234086632728577,
          -0.46660828590393066,
          -0.454982727766037,
          -0.4498518705368042,
          -0.4130586087703705,
          -0.35521838068962097,
          -0.42715737223625183,
          -0.34967905282974243,
          -0.3645741045475006,
          -0.3658660352230072,
          -0.46035531163215637,
          -0.33681392669677734,
          -0.42032700777053833,
          -0.4351504445075989,
          -0.39721158146858215,
          -0.365166038274765,
          -0.39724838733673096,
          -0.3717489540576935,
          -0.37750163674354553,
          -0.32354551553726196,
          -0.3520958125591278,
          -0.35355517268180847,
          -0.3462343215942383,
          -0.26978665590286255,
          -0.2582499086856842,
          -0.2535088360309601,
          -0.25322210788726807,
          -0.2570340037345886,
          -0.27714604139328003,
          -0.29674848914146423,
          -0.2959177792072296,
          -0.3016882836818695,
          -0.3046194612979889,
          -0.30460792779922485,
          -0.30291756987571716,
          -0.30073100328445435,
          -0.2944892644882202,
          -0.3563866913318634,
          -0.32732921838760376,
          -0.35408416390419006,
          -0.36031487584114075,
          -0.35585832595825195,
          -0.3599419891834259,
          -0.36147448420524597,
          -0.3641926348209381,
          -0.29148611426353455,
          -0.29557254910469055,
          -0.2986832857131958,
          -0.2782178819179535,
          -0.26890215277671814,
          -0.3275986909866333,
          -0.3135244846343994,
          -0.36559706926345825,
          -0.26889175176620483,
          -0.31595078110694885,
          -0.31874626874923706,
          -0.31992149353027344,
          -0.3178985118865967,
          -0.31160876154899597,
          -0.28849488496780396,
          -0.28761154413223267,
          -0.29224422574043274,
          -0.29807567596435547,
          -0.32455068826675415,
          -0.45923638343811035,
          -0.31213560700416565,
          -0.3180876672267914,
          -0.3184810280799866,
          -0.35879895091056824,
          -0.3837357461452484,
          -0.3993685841560364,
          -0.39414605498313904,
          -0.40412747859954834,
          -0.4039399325847626,
          -0.4089149534702301,
          -0.4252726137638092,
          -0.3592924475669861,
          -0.34970352053642273,
          -0.28973692655563354,
          -0.33045318722724915,
          -0.3603125512599945,
          -0.35540854930877686,
          -0.36326977610588074,
          -0.33766239881515503,
          -0.2739831805229187,
          -0.2800080180168152,
          -0.24857276678085327,
          -0.27588745951652527,
          -0.2902228832244873,
          -0.41505035758018494,
          -0.4146864712238312,
          -0.36492156982421875,
          -0.36707547307014465,
          -0.41987112164497375,
          -0.41836094856262207,
          -0.2739447355270386,
          -0.36468344926834106,
          -0.2720286548137665,
          -0.2634027898311615,
          -0.2168627381324768,
          -0.25862616300582886,
          -0.23801961541175842,
          -0.2860802114009857,
          -0.27531611919403076,
          -0.39165398478507996,
          -0.39939218759536743,
          -0.4066222012042999,
          -0.36640217900276184,
          -0.41919851303100586,
          -0.4206930696964264,
          -0.4176233410835266,
          -0.3613467812538147,
          -0.4102296531200409,
          -0.40709438920021057,
          -0.4044995903968811,
          -0.4450582265853882,
          -0.43394631147384644,
          -0.4263969957828522,
          -0.41911840438842773,
          -0.41375991702079773,
          -0.41523462533950806,
          -0.4186604917049408,
          -0.42294842004776,
          -0.4274700880050659,
          -0.3940807282924652,
          -0.36267346143722534,
          -0.4160654544830322,
          -0.4182804226875305,
          -0.3705368638038635,
          -0.37003159523010254,
          -0.36891692876815796,
          -0.3377542197704315,
          -0.3471604585647583,
          -0.36006978154182434,
          -0.2312985211610794,
          -0.2461639940738678,
          -0.26597246527671814,
          -0.4335685670375824,
          -0.2622213363647461,
          -0.2332691252231598,
          -0.2069612294435501,
          -0.3200344145298004,
          -0.3325854241847992,
          -0.3075910806655884,
          -0.30410394072532654,
          -0.32296353578567505,
          -0.355993390083313,
          -0.3396637737751007,
          -0.33882495760917664,
          -0.34037503600120544,
          -0.33577558398246765,
          -0.3291180431842804,
          -0.32218849658966064,
          -0.3077854514122009,
          -0.36219143867492676,
          -0.3034352660179138,
          -0.3641981780529022,
          -0.3400178849697113,
          -0.3149254024028778,
          -0.3147476613521576,
          -0.36090216040611267,
          -0.3127653896808624,
          -0.34969231486320496,
          -0.3879901170730591,
          -0.3037532567977905,
          -0.34262314438819885,
          -0.4407787322998047,
          -0.4516468644142151,
          -0.3642341196537018,
          -0.42805609107017517,
          -0.2955535650253296,
          -0.4697585105895996,
          -0.3665672838687897,
          -0.34863629937171936,
          -0.32156646251678467,
          -0.31391459703445435,
          -0.3127880096435547,
          -0.4233643710613251,
          -0.3833228349685669,
          -0.4833645224571228,
          -0.4709012508392334,
          -0.4633721113204956,
          -0.31052425503730774,
          -0.3074561655521393,
          -0.3054288923740387,
          -0.3023892641067505,
          -0.30010858178138733,
          -0.29985782504081726,
          -0.3010845482349396,
          -0.3041430115699768,
          -0.30752426385879517,
          -0.2900339663028717,
          -0.3139500916004181,
          -0.3861636221408844,
          -0.3633691370487213,
          -0.37932488322257996,
          -0.4518755376338959,
          -0.4605163633823395,
          -0.47609376907348633,
          -0.43645602464675903,
          -0.3018989861011505,
          -0.3246404826641083,
          -0.47808510065078735,
          -0.3875850439071655,
          -0.4144303798675537,
          -0.4189944267272949,
          -0.4250229597091675,
          -0.4319762587547302,
          -0.44089505076408386,
          -0.4136495292186737,
          -0.4134935140609741,
          -0.412662148475647,
          -0.40376749634742737,
          -0.387319415807724,
          -0.31469500064849854,
          -0.29376572370529175,
          -0.296622097492218,
          -0.4133710265159607,
          -0.4127142131328583,
          -0.29111599922180176,
          -0.44943398237228394,
          -0.3184874355792999,
          -0.34109583497047424,
          -0.4548557996749878,
          -0.4304962158203125,
          -0.37046876549720764,
          -0.44108283519744873,
          -0.37441056966781616,
          -0.3830970823764801,
          -0.3926963806152344,
          -0.46589356660842896,
          -0.34752458333969116,
          -0.43993744254112244,
          -0.4501422643661499,
          -0.41802704334259033,
          -0.4009309411048889,
          -0.42257553339004517,
          -0.4089018702507019,
          -0.39797475934028625,
          -0.3321835696697235,
          -0.35996031761169434,
          -0.3630546033382416,
          -0.3524952530860901,
          -0.2854716181755066,
          -0.28142374753952026,
          -0.2826719582080841,
          -0.2872433066368103,
          -0.2943650186061859,
          -0.3154069185256958,
          -0.3412708044052124,
          -0.32808396220207214,
          -0.328785240650177,
          -0.326623797416687,
          -0.3220314085483551,
          -0.31655168533325195,
          -0.31145694851875305,
          -0.33839893341064453,
          -0.36560600996017456,
          -0.3333839774131775,
          -0.35934415459632874,
          -0.3638337552547455,
          -0.36137518286705017,
          -0.3681594133377075,
          -0.3642735481262207,
          -0.3665429949760437,
          -0.3031567633152008,
          -0.3043506145477295,
          -0.305195689201355,
          -0.31000953912734985,
          -0.30461329221725464
         ],
         "yaxis": "y"
        }
       ],
       "layout": {
        "legend": {
         "title": {
          "text": "type"
         },
         "tracegroupgap": 0
        },
        "margin": {
         "t": 60
        },
        "template": {
         "data": {
          "bar": [
           {
            "error_x": {
             "color": "#2a3f5f"
            },
            "error_y": {
             "color": "#2a3f5f"
            },
            "marker": {
             "line": {
              "color": "#E5ECF6",
              "width": 0.5
             },
             "pattern": {
              "fillmode": "overlay",
              "size": 10,
              "solidity": 0.2
             }
            },
            "type": "bar"
           }
          ],
          "barpolar": [
           {
            "marker": {
             "line": {
              "color": "#E5ECF6",
              "width": 0.5
             },
             "pattern": {
              "fillmode": "overlay",
              "size": 10,
              "solidity": 0.2
             }
            },
            "type": "barpolar"
           }
          ],
          "carpet": [
           {
            "aaxis": {
             "endlinecolor": "#2a3f5f",
             "gridcolor": "white",
             "linecolor": "white",
             "minorgridcolor": "white",
             "startlinecolor": "#2a3f5f"
            },
            "baxis": {
             "endlinecolor": "#2a3f5f",
             "gridcolor": "white",
             "linecolor": "white",
             "minorgridcolor": "white",
             "startlinecolor": "#2a3f5f"
            },
            "type": "carpet"
           }
          ],
          "choropleth": [
           {
            "colorbar": {
             "outlinewidth": 0,
             "ticks": ""
            },
            "type": "choropleth"
           }
          ],
          "contour": [
           {
            "colorbar": {
             "outlinewidth": 0,
             "ticks": ""
            },
            "colorscale": [
             [
              0,
              "#0d0887"
             ],
             [
              0.1111111111111111,
              "#46039f"
             ],
             [
              0.2222222222222222,
              "#7201a8"
             ],
             [
              0.3333333333333333,
              "#9c179e"
             ],
             [
              0.4444444444444444,
              "#bd3786"
             ],
             [
              0.5555555555555556,
              "#d8576b"
             ],
             [
              0.6666666666666666,
              "#ed7953"
             ],
             [
              0.7777777777777778,
              "#fb9f3a"
             ],
             [
              0.8888888888888888,
              "#fdca26"
             ],
             [
              1,
              "#f0f921"
             ]
            ],
            "type": "contour"
           }
          ],
          "contourcarpet": [
           {
            "colorbar": {
             "outlinewidth": 0,
             "ticks": ""
            },
            "type": "contourcarpet"
           }
          ],
          "heatmap": [
           {
            "colorbar": {
             "outlinewidth": 0,
             "ticks": ""
            },
            "colorscale": [
             [
              0,
              "#0d0887"
             ],
             [
              0.1111111111111111,
              "#46039f"
             ],
             [
              0.2222222222222222,
              "#7201a8"
             ],
             [
              0.3333333333333333,
              "#9c179e"
             ],
             [
              0.4444444444444444,
              "#bd3786"
             ],
             [
              0.5555555555555556,
              "#d8576b"
             ],
             [
              0.6666666666666666,
              "#ed7953"
             ],
             [
              0.7777777777777778,
              "#fb9f3a"
             ],
             [
              0.8888888888888888,
              "#fdca26"
             ],
             [
              1,
              "#f0f921"
             ]
            ],
            "type": "heatmap"
           }
          ],
          "heatmapgl": [
           {
            "colorbar": {
             "outlinewidth": 0,
             "ticks": ""
            },
            "colorscale": [
             [
              0,
              "#0d0887"
             ],
             [
              0.1111111111111111,
              "#46039f"
             ],
             [
              0.2222222222222222,
              "#7201a8"
             ],
             [
              0.3333333333333333,
              "#9c179e"
             ],
             [
              0.4444444444444444,
              "#bd3786"
             ],
             [
              0.5555555555555556,
              "#d8576b"
             ],
             [
              0.6666666666666666,
              "#ed7953"
             ],
             [
              0.7777777777777778,
              "#fb9f3a"
             ],
             [
              0.8888888888888888,
              "#fdca26"
             ],
             [
              1,
              "#f0f921"
             ]
            ],
            "type": "heatmapgl"
           }
          ],
          "histogram": [
           {
            "marker": {
             "pattern": {
              "fillmode": "overlay",
              "size": 10,
              "solidity": 0.2
             }
            },
            "type": "histogram"
           }
          ],
          "histogram2d": [
           {
            "colorbar": {
             "outlinewidth": 0,
             "ticks": ""
            },
            "colorscale": [
             [
              0,
              "#0d0887"
             ],
             [
              0.1111111111111111,
              "#46039f"
             ],
             [
              0.2222222222222222,
              "#7201a8"
             ],
             [
              0.3333333333333333,
              "#9c179e"
             ],
             [
              0.4444444444444444,
              "#bd3786"
             ],
             [
              0.5555555555555556,
              "#d8576b"
             ],
             [
              0.6666666666666666,
              "#ed7953"
             ],
             [
              0.7777777777777778,
              "#fb9f3a"
             ],
             [
              0.8888888888888888,
              "#fdca26"
             ],
             [
              1,
              "#f0f921"
             ]
            ],
            "type": "histogram2d"
           }
          ],
          "histogram2dcontour": [
           {
            "colorbar": {
             "outlinewidth": 0,
             "ticks": ""
            },
            "colorscale": [
             [
              0,
              "#0d0887"
             ],
             [
              0.1111111111111111,
              "#46039f"
             ],
             [
              0.2222222222222222,
              "#7201a8"
             ],
             [
              0.3333333333333333,
              "#9c179e"
             ],
             [
              0.4444444444444444,
              "#bd3786"
             ],
             [
              0.5555555555555556,
              "#d8576b"
             ],
             [
              0.6666666666666666,
              "#ed7953"
             ],
             [
              0.7777777777777778,
              "#fb9f3a"
             ],
             [
              0.8888888888888888,
              "#fdca26"
             ],
             [
              1,
              "#f0f921"
             ]
            ],
            "type": "histogram2dcontour"
           }
          ],
          "mesh3d": [
           {
            "colorbar": {
             "outlinewidth": 0,
             "ticks": ""
            },
            "type": "mesh3d"
           }
          ],
          "parcoords": [
           {
            "line": {
             "colorbar": {
              "outlinewidth": 0,
              "ticks": ""
             }
            },
            "type": "parcoords"
           }
          ],
          "pie": [
           {
            "automargin": true,
            "type": "pie"
           }
          ],
          "scatter": [
           {
            "fillpattern": {
             "fillmode": "overlay",
             "size": 10,
             "solidity": 0.2
            },
            "type": "scatter"
           }
          ],
          "scatter3d": [
           {
            "line": {
             "colorbar": {
              "outlinewidth": 0,
              "ticks": ""
             }
            },
            "marker": {
             "colorbar": {
              "outlinewidth": 0,
              "ticks": ""
             }
            },
            "type": "scatter3d"
           }
          ],
          "scattercarpet": [
           {
            "marker": {
             "colorbar": {
              "outlinewidth": 0,
              "ticks": ""
             }
            },
            "type": "scattercarpet"
           }
          ],
          "scattergeo": [
           {
            "marker": {
             "colorbar": {
              "outlinewidth": 0,
              "ticks": ""
             }
            },
            "type": "scattergeo"
           }
          ],
          "scattergl": [
           {
            "marker": {
             "colorbar": {
              "outlinewidth": 0,
              "ticks": ""
             }
            },
            "type": "scattergl"
           }
          ],
          "scattermapbox": [
           {
            "marker": {
             "colorbar": {
              "outlinewidth": 0,
              "ticks": ""
             }
            },
            "type": "scattermapbox"
           }
          ],
          "scatterpolar": [
           {
            "marker": {
             "colorbar": {
              "outlinewidth": 0,
              "ticks": ""
             }
            },
            "type": "scatterpolar"
           }
          ],
          "scatterpolargl": [
           {
            "marker": {
             "colorbar": {
              "outlinewidth": 0,
              "ticks": ""
             }
            },
            "type": "scatterpolargl"
           }
          ],
          "scatterternary": [
           {
            "marker": {
             "colorbar": {
              "outlinewidth": 0,
              "ticks": ""
             }
            },
            "type": "scatterternary"
           }
          ],
          "surface": [
           {
            "colorbar": {
             "outlinewidth": 0,
             "ticks": ""
            },
            "colorscale": [
             [
              0,
              "#0d0887"
             ],
             [
              0.1111111111111111,
              "#46039f"
             ],
             [
              0.2222222222222222,
              "#7201a8"
             ],
             [
              0.3333333333333333,
              "#9c179e"
             ],
             [
              0.4444444444444444,
              "#bd3786"
             ],
             [
              0.5555555555555556,
              "#d8576b"
             ],
             [
              0.6666666666666666,
              "#ed7953"
             ],
             [
              0.7777777777777778,
              "#fb9f3a"
             ],
             [
              0.8888888888888888,
              "#fdca26"
             ],
             [
              1,
              "#f0f921"
             ]
            ],
            "type": "surface"
           }
          ],
          "table": [
           {
            "cells": {
             "fill": {
              "color": "#EBF0F8"
             },
             "line": {
              "color": "white"
             }
            },
            "header": {
             "fill": {
              "color": "#C8D4E3"
             },
             "line": {
              "color": "white"
             }
            },
            "type": "table"
           }
          ]
         },
         "layout": {
          "annotationdefaults": {
           "arrowcolor": "#2a3f5f",
           "arrowhead": 0,
           "arrowwidth": 1
          },
          "autotypenumbers": "strict",
          "coloraxis": {
           "colorbar": {
            "outlinewidth": 0,
            "ticks": ""
           }
          },
          "colorscale": {
           "diverging": [
            [
             0,
             "#8e0152"
            ],
            [
             0.1,
             "#c51b7d"
            ],
            [
             0.2,
             "#de77ae"
            ],
            [
             0.3,
             "#f1b6da"
            ],
            [
             0.4,
             "#fde0ef"
            ],
            [
             0.5,
             "#f7f7f7"
            ],
            [
             0.6,
             "#e6f5d0"
            ],
            [
             0.7,
             "#b8e186"
            ],
            [
             0.8,
             "#7fbc41"
            ],
            [
             0.9,
             "#4d9221"
            ],
            [
             1,
             "#276419"
            ]
           ],
           "sequential": [
            [
             0,
             "#0d0887"
            ],
            [
             0.1111111111111111,
             "#46039f"
            ],
            [
             0.2222222222222222,
             "#7201a8"
            ],
            [
             0.3333333333333333,
             "#9c179e"
            ],
            [
             0.4444444444444444,
             "#bd3786"
            ],
            [
             0.5555555555555556,
             "#d8576b"
            ],
            [
             0.6666666666666666,
             "#ed7953"
            ],
            [
             0.7777777777777778,
             "#fb9f3a"
            ],
            [
             0.8888888888888888,
             "#fdca26"
            ],
            [
             1,
             "#f0f921"
            ]
           ],
           "sequentialminus": [
            [
             0,
             "#0d0887"
            ],
            [
             0.1111111111111111,
             "#46039f"
            ],
            [
             0.2222222222222222,
             "#7201a8"
            ],
            [
             0.3333333333333333,
             "#9c179e"
            ],
            [
             0.4444444444444444,
             "#bd3786"
            ],
            [
             0.5555555555555556,
             "#d8576b"
            ],
            [
             0.6666666666666666,
             "#ed7953"
            ],
            [
             0.7777777777777778,
             "#fb9f3a"
            ],
            [
             0.8888888888888888,
             "#fdca26"
            ],
            [
             1,
             "#f0f921"
            ]
           ]
          },
          "colorway": [
           "#636efa",
           "#EF553B",
           "#00cc96",
           "#ab63fa",
           "#FFA15A",
           "#19d3f3",
           "#FF6692",
           "#B6E880",
           "#FF97FF",
           "#FECB52"
          ],
          "font": {
           "color": "#2a3f5f"
          },
          "geo": {
           "bgcolor": "white",
           "lakecolor": "white",
           "landcolor": "#E5ECF6",
           "showlakes": true,
           "showland": true,
           "subunitcolor": "white"
          },
          "hoverlabel": {
           "align": "left"
          },
          "hovermode": "closest",
          "mapbox": {
           "style": "light"
          },
          "paper_bgcolor": "white",
          "plot_bgcolor": "#E5ECF6",
          "polar": {
           "angularaxis": {
            "gridcolor": "white",
            "linecolor": "white",
            "ticks": ""
           },
           "bgcolor": "#E5ECF6",
           "radialaxis": {
            "gridcolor": "white",
            "linecolor": "white",
            "ticks": ""
           }
          },
          "scene": {
           "xaxis": {
            "backgroundcolor": "#E5ECF6",
            "gridcolor": "white",
            "gridwidth": 2,
            "linecolor": "white",
            "showbackground": true,
            "ticks": "",
            "zerolinecolor": "white"
           },
           "yaxis": {
            "backgroundcolor": "#E5ECF6",
            "gridcolor": "white",
            "gridwidth": 2,
            "linecolor": "white",
            "showbackground": true,
            "ticks": "",
            "zerolinecolor": "white"
           },
           "zaxis": {
            "backgroundcolor": "#E5ECF6",
            "gridcolor": "white",
            "gridwidth": 2,
            "linecolor": "white",
            "showbackground": true,
            "ticks": "",
            "zerolinecolor": "white"
           }
          },
          "shapedefaults": {
           "line": {
            "color": "#2a3f5f"
           }
          },
          "ternary": {
           "aaxis": {
            "gridcolor": "white",
            "linecolor": "white",
            "ticks": ""
           },
           "baxis": {
            "gridcolor": "white",
            "linecolor": "white",
            "ticks": ""
           },
           "bgcolor": "#E5ECF6",
           "caxis": {
            "gridcolor": "white",
            "linecolor": "white",
            "ticks": ""
           }
          },
          "title": {
           "x": 0.05
          },
          "xaxis": {
           "automargin": true,
           "gridcolor": "white",
           "linecolor": "white",
           "ticks": "",
           "title": {
            "standoff": 15
           },
           "zerolinecolor": "white",
           "zerolinewidth": 2
          },
          "yaxis": {
           "automargin": true,
           "gridcolor": "white",
           "linecolor": "white",
           "ticks": "",
           "title": {
            "standoff": 15
           },
           "zerolinecolor": "white",
           "zerolinewidth": 2
          }
         }
        },
        "xaxis": {
         "anchor": "y",
         "domain": [
          0,
          1
         ],
         "title": {
          "text": "x"
         }
        },
        "yaxis": {
         "anchor": "x",
         "domain": [
          0,
          1
         ],
         "title": {
          "text": "y_"
         }
        }
       }
      }
     },
     "metadata": {},
     "output_type": "display_data"
    }
   ],
   "source": [
    "example_landmark[\"y_\"] = example_landmark[\"y\"] * -1\n",
    "example_frame = example_landmark.query(\"frame == 25 and type== 'face'\")\n",
    "px.scatter(example_frame, x=\"x\", y=\"y_\", color=\"type\")"
   ]
  },
  {
   "cell_type": "code",
   "execution_count": 25,
   "metadata": {},
   "outputs": [
    {
     "data": {
      "image/png": "[encoded data removed]",
      "text/plain": [
       "<Figure size 500x500 with 1 Axes>"
      ]
     },
     "metadata": {},
     "output_type": "display_data"
    }
   ],
   "source": [
    "import mediapipe as mp\n",
    "\n",
    "mp_hands = mp.solutions.hands\n",
    "\n",
    "\n",
    "example_landmark[\"y_\"] = example_landmark[\"y\"] * -1\n",
    "\n",
    "fig, ax = plt.subplots(figsize=(5, 5))\n",
    "\n",
    "for hand in [\"left_hand\", \"right_hand\"]:\n",
    "    example_hand = example_landmark.query(\"frame == 17 and type == @hand\")\n",
    "\n",
    "    ax.scatter(example_hand[\"x\"], example_hand[\"y_\"])\n",
    "\n",
    "    for connection in mp_hands.HAND_CONNECTIONS:\n",
    "        point_a = connection[0]\n",
    "        point_b = connection[1]\n",
    "        x1, y1 = example_hand.query(\"landmark_index == @point_a\")[[\"x\", \"y_\"]].values[0]\n",
    "        x2, y2 = example_hand.query(\"landmark_index == @point_b\")[[\"x\", \"y_\"]].values[0]\n",
    "        plt.plot([x1, x2], [y1, y2], color=\"purple\")\n",
    "ax.set_title(\"Shhh - Hands Data\")\n",
    "plt.show()"
   ]
  },
  {
   "cell_type": "code",
   "execution_count": 26,
   "metadata": {},
   "outputs": [
    {
     "name": "stderr",
     "output_type": "stream",
     "text": [
      "c:\\Users\\kabir\\.vscode\\Code Files\\ctp-ds-project\\.venv\\Lib\\site-packages\\google\\protobuf\\symbol_database.py:55: UserWarning:\n",
      "\n",
      "SymbolDatabase.GetPrototype() is deprecated. Please use message_factory.GetMessageClass() instead. SymbolDatabase.GetPrototype() will be removed soon.\n",
      "\n"
     ]
    },
    {
     "data": {
      "text/plain": [
       "True"
      ]
     },
     "execution_count": 26,
     "metadata": {},
     "output_type": "execute_result"
    }
   ],
   "source": [
    "import cv2\n",
    "import mediapipe as mp\n",
    "import numpy as np\n",
    "import os \n",
    "mp_drawing = mp.solutions.drawing_utils\n",
    "mp_drawing_styles = mp.solutions.drawing_styles\n",
    "mp_face_mesh = mp.solutions.face_mesh\n",
    "mp_pose = mp.solutions.pose\n",
    "mp_hands = mp.solutions.hands\n",
    "\n",
    "\n",
    "# For static images:\n",
    "IMAGE_FILES = [\n",
    "    \"asl_shh_test.jpg\", #include more images to test the mediapipe annotations\n",
    "]\n",
    "BG_COLOR = (192, 192, 192)  # gray\n",
    "\n",
    "\n",
    "landmarks_data = {}\n",
    "\n",
    "\n",
    "output_dir = \"tmp\"\n",
    "if not os.path.exists(output_dir):\n",
    "    os.makedirs(output_dir)\n",
    "\n",
    "\n",
    "with mp_face_mesh.FaceMesh(static_image_mode=True, refine_landmarks=True) as face_mesh, \\\n",
    "     mp_pose.Pose(static_image_mode=True) as pose, \\\n",
    "     mp_hands.Hands(static_image_mode=True) as hands:\n",
    "    \n",
    "    for idx, file in enumerate(IMAGE_FILES):\n",
    "        image = cv2.imread(file)\n",
    "        if image is None:\n",
    "            print(f\"Error loading image {file}\")\n",
    "            continue\n",
    "        image_height, image_width, _ = image.shape\n",
    "        # Convert the BGR image to RGB before processing.\n",
    "        image_rgb = cv2.cvtColor(image, cv2.COLOR_BGR2RGB)\n",
    "        \n",
    "        # Ensure the image is writable\n",
    "        image_rgb.flags.writeable = False\n",
    "        \n",
    "        try:\n",
    "            # Process the image and draw landmarks\n",
    "            face_results = face_mesh.process(image_rgb)\n",
    "            pose_results = pose.process(image_rgb)\n",
    "            hands_results = hands.process(image_rgb)\n",
    "        except Exception as e:\n",
    "            print(f\"Error processing image {file}: {e}\")\n",
    "            continue\n",
    "        \n",
    "        image_rgb.flags.writeable = True\n",
    "\n",
    "        annotated_image = image.copy()\n",
    "        landmarks_data[file] = {\n",
    "            'face_landmarks': [],\n",
    "            'pose_landmarks': [],\n",
    "            'hand_landmarks': []\n",
    "        }\n",
    "\n",
    "        # Draw face landmarks on the image and store them.\n",
    "        if face_results and face_results.multi_face_landmarks:\n",
    "            for face_landmarks in face_results.multi_face_landmarks:\n",
    "                mp_drawing.draw_landmarks(\n",
    "                    annotated_image,\n",
    "                    face_landmarks,\n",
    "                    mp_face_mesh.FACEMESH_TESSELATION,\n",
    "                    landmark_drawing_spec=None,\n",
    "                    connection_drawing_spec=mp_drawing_styles.get_default_face_mesh_tesselation_style(),\n",
    "                )\n",
    "                landmarks_data[file]['face_landmarks'].append([\n",
    "                    (lm.x * image_width, lm.y * image_height, lm.z * image_width)\n",
    "                    for lm in face_landmarks.landmark\n",
    "                ])\n",
    "        \n",
    "        # Draw pose landmarks on the image and store them.\n",
    "        if pose_results and pose_results.pose_landmarks:\n",
    "            mp_drawing.draw_landmarks(\n",
    "                annotated_image,\n",
    "                pose_results.pose_landmarks,\n",
    "                mp_pose.POSE_CONNECTIONS,\n",
    "                landmark_drawing_spec=mp_drawing_styles.get_default_pose_landmarks_style(),\n",
    "            )\n",
    "            landmarks_data[file]['pose_landmarks'] = [\n",
    "                (lm.x * image_width, lm.y * image_height, lm.z * image_width)\n",
    "                for lm in pose_results.pose_landmarks.landmark\n",
    "            ]\n",
    "        \n",
    "        # Draw hand landmarks on the image and store them.\n",
    "        if hands_results and hands_results.multi_hand_landmarks:\n",
    "            for hand_landmarks in hands_results.multi_hand_landmarks:\n",
    "                mp_drawing.draw_landmarks(\n",
    "                    annotated_image,\n",
    "                    hand_landmarks,\n",
    "                    mp_hands.HAND_CONNECTIONS,\n",
    "                    landmark_drawing_spec=mp_drawing_styles.get_default_hand_landmarks_style(),\n",
    "                )\n",
    "                landmarks_data[file]['hand_landmarks'].append([\n",
    "                    (lm.x * image_width, lm.y * image_height, lm.z * image_width)\n",
    "                    for lm in hand_landmarks.landmark\n",
    "                ])\n",
    "        \n",
    "        cv2.imwrite(os.path.join(output_dir, \"annotated_image\" + str(idx) + \".png\"), annotated_image)\n",
    "\n",
    "# Print the stored landmarks data\n",
    "cv2.imwrite(\"tmp/annotated_image\" + str(idx) + \".png\", annotated_image)\n"
   ]
  },
  {
   "cell_type": "code",
   "execution_count": 27,
   "metadata": {},
   "outputs": [
    {
     "data": {
      "image/png": "[encoded data removed]",
      "text/plain": [
       "<Figure size 640x480 with 1 Axes>"
      ]
     },
     "metadata": {},
     "output_type": "display_data"
    },
    {
     "data": {
      "text/plain": [
       "' #once you add more images, you can uncomment the below images one by one\\nplt.imshow(plt.imread(\"tmp/annotated_image\" + str(1) + \".png\"))\\nplt.show()\\nplt.imshow(plt.imread(\"tmp/annotated_image\" + str(2) + \".png\"))\\nplt.show()\\n'"
      ]
     },
     "execution_count": 27,
     "metadata": {},
     "output_type": "execute_result"
    }
   ],
   "source": [
    "plt.imshow(plt.imread(\"tmp/annotated_image\" + str(0) + \".png\"))\n",
    "plt.show()\n",
    "''' #once you add more images, you can uncomment the below images one by one\n",
    "plt.imshow(plt.imread(\"tmp/annotated_image\" + str(1) + \".png\"))\n",
    "plt.show()\n",
    "plt.imshow(plt.imread(\"tmp/annotated_image\" + str(2) + \".png\"))\n",
    "plt.show()\n",
    "'''"
   ]
  },
  {
   "cell_type": "code",
   "execution_count": 6,
   "metadata": {},
   "outputs": [],
   "source": [
    "def load_relevant_data_subset(pq_path):\n",
    "    data_columns = ['x', 'y', 'z']\n",
    "    data = pd.read_parquet(pq_path, columns=data_columns)\n",
    "    n_frames = int(len(data) / ROWS_PER_FRAME)\n",
    "    data = data.values.reshape(n_frames, ROWS_PER_FRAME, len(data_columns))\n",
    "    return data.astype(np.float32)"
   ]
  },
  {
   "cell_type": "code",
   "execution_count": 11,
   "metadata": {},
   "outputs": [],
   "source": [
    "import tensorflow as tf #this is the model that will be used to predict the sign language\n",
    "\n",
    "def run_model(model_path, frames):\n",
    "    # Initialize the TensorFlow Lite interpreter\n",
    "    interpreter = tf.lite.Interpreter(model_path=model_path)\n",
    "    interpreter.allocate_tensors()\n",
    "\n",
    "    # Get the list of available signatures\n",
    "    found_signatures = list(interpreter.get_signature_list().keys())\n",
    "    REQUIRED_SIGNATURE = \"serving_default\"\n",
    "\n",
    "    # Check if the required signature is available\n",
    "    if REQUIRED_SIGNATURE not in found_signatures:\n",
    "        raise Exception('Required input signature not found.')\n",
    "\n",
    "    # Get the prediction function from the interpreter\n",
    "    prediction_fn = interpreter.get_signature_runner(REQUIRED_SIGNATURE)\n",
    "\n",
    "    # Run the prediction function with the input frames\n",
    "    output = prediction_fn(inputs=frames)\n",
    "    sign = np.argmax(output[\"outputs\"])\n",
    "\n",
    "    return sign\n"
   ]
  },
  {
   "cell_type": "code",
   "execution_count": 7,
   "metadata": {},
   "outputs": [],
   "source": [
    "train['sign_ord'] = train['sign'].astype('category').cat.codes\n",
    "SIGN2ORD = train[['sign', 'sign_ord']].set_index('sign').squeeze().to_dict()\n",
    "ORD2SIGN = train[['sign_ord', 'sign']].set_index('sign_ord').squeeze().to_dict()"
   ]
  },
  {
   "cell_type": "code",
   "execution_count": 8,
   "metadata": {},
   "outputs": [
    {
     "name": "stdout",
     "output_type": "stream",
     "text": [
      "Index(['x', 'y', 'z'], dtype='object')\n",
      "(40, 543, 3)\n"
     ]
    }
   ],
   "source": [
    "import pandas as pd\n",
    "import numpy as np\n",
    "\n",
    "ROWS_PER_FRAME = 543  # Number of rows per frame, adjust as needed\n",
    "\n",
    "def load_relevant_data_subset(pq_path):\n",
    "    data_columns = ['x', 'y', 'z']\n",
    "    data = pd.read_parquet(pq_path, columns=data_columns)\n",
    "    print(data.columns)\n",
    "    n_frames = int(len(data) / ROWS_PER_FRAME)\n",
    "    data = data.values.reshape(n_frames, ROWS_PER_FRAME, len(data_columns))\n",
    "    return data.astype(np.float32)\n",
    "\n",
    "# Example usage\n",
    "pq_path = 'data/asl-signs/train_landmark_files/16069/695046.parquet' #this is a test parquet. \n",
    "frames = load_relevant_data_subset(pq_path)\n",
    "print(frames.shape)  # Should print (n_frames, ROWS_PER_FRAME, 3)"
   ]
  },
  {
   "cell_type": "code",
   "execution_count": 12,
   "metadata": {},
   "outputs": [
    {
     "name": "stdout",
     "output_type": "stream",
     "text": [
      "Predicted sign: mad\n"
     ]
    }
   ],
   "source": [
    "model_path = \"model.tflite\" #should return 'mad'\n",
    "sign = ORD2SIGN[run_model(model_path, frames)]\n",
    "print(f\"Predicted sign: {sign}\") "
   ]
  },
  {
   "cell_type": "code",
   "execution_count": 14,
   "metadata": {},
   "outputs": [
    {
     "name": "stdout",
     "output_type": "stream",
     "text": [
      "['blow', 'wait', 'cloud', 'bird', 'owie', 'duck', 'minemy', 'lips', 'flower', 'time', 'vacuum', 'apple', 'puzzle', 'mitten', 'there', 'dry', 'shirt', 'owl', 'yellow', 'not', 'zipper', 'clean', 'closet', 'quiet', 'have', 'brother', 'clown', 'cheek', 'cute', 'store', 'shoe', 'wet', 'see', 'empty', 'fall', 'balloon', 'frenchfries', 'finger', 'same', 'cry', 'hungry', 'orange', 'milk', 'go', 'drawer', 'TV', 'another', 'giraffe', 'wake', 'bee', 'bad', 'can', 'say', 'callonphone', 'finish', 'old', 'backyard', 'sick', 'look', 'that', 'black', 'yourself', 'open', 'alligator', 'moon', 'find', 'pizza', 'shhh', 'fast', 'jacket', 'scissors', 'now', 'man', 'sticky', 'jump', 'sleep', 'sun', 'first', 'grass', 'uncle', 'fish', 'cowboy', 'snow', 'dryer', 'green', 'bug', 'nap', 'feet', 'yucky', 'morning', 'sad', 'face', 'penny', 'gift', 'night', 'hair', 'who', 'think', 'brown', 'mad', 'bed', 'drink', 'stay', 'flag', 'tooth', 'awake', 'thankyou', 'hot', 'like', 'where', 'hesheit', 'potty', 'down', 'stuck', 'no', 'head', 'food', 'pretty', 'nuts', 'animal', 'frog', 'beside', 'noisy', 'water', 'weus', 'happy', 'white', 'bye', 'high', 'fine', 'boat', 'all', 'tiger', 'pencil', 'sleepy', 'grandma', 'chocolate', 'haveto', 'radio', 'farm', 'any', 'zebra', 'rain', 'toy', 'donkey', 'lion', 'drop', 'many', 'bath', 'aunt', 'will', 'hate', 'on', 'pretend', 'kitty', 'fireman', 'before', 'doll', 'stairs', 'kiss', 'loud', 'hen', 'listen', 'give', 'wolf', 'dad', 'gum', 'hear', 'refrigerator', 'outside', 'cut', 'underwear', 'please', 'child', 'smile', 'pen', 'yesterday', 'horse', 'pig', 'table', 'eye', 'snack', 'story', 'police', 'arm', 'talk', 'grandpa', 'tongue', 'pool', 'girl', 'up', 'better', 'tree', 'dance', 'close', 'taste', 'chin', 'ride', 'because', 'if', 'cat', 'why', 'carrot', 'dog', 'mouse', 'jeans', 'shower', 'later', 'mom', 'nose', 'yes', 'airplane', 'book', 'blue', 'icecream', 'garbage', 'tomorrow', 'red', 'cow', 'person', 'puppy', 'cereal', 'touch', 'mouth', 'boy', 'thirsty', 'make', 'for', 'glasswindow', 'into', 'read', 'every', 'bedroom', 'napkin', 'ear', 'toothbrush', 'home', 'pajamas', 'hello', 'helicopter', 'lamp', 'room', 'dirty', 'chair', 'hat', 'elephant', 'after', 'car', 'hide', 'goose']\n"
     ]
    }
   ],
   "source": [
    "sign_values = train['sign'].unique().tolist()\n",
    "print(sign_values)"
   ]
  },
  {
   "cell_type": "code",
   "execution_count": 15,
   "metadata": {},
   "outputs": [
    {
     "name": "stdout",
     "output_type": "stream",
     "text": [
      "Index(['x', 'y', 'z'], dtype='object')\n",
      "(24, 543, 3)\n",
      "Predicted sign: hello\n"
     ]
    }
   ],
   "source": [
    "#this is the final step. run this cell ONLY AFTER running capture_sign.py\n",
    "pq_path = 'landmarks.parquet'\n",
    "frames = load_relevant_data_subset(pq_path)\n",
    "print(frames.shape)\n",
    "sign = ORD2SIGN[run_model(model_path, frames)]\n",
    "print(f\"Predicted sign: {sign}\")"
   ]
  }
 ],
 "metadata": {
  "kernelspec": {
   "display_name": ".venv",
   "language": "python",
   "name": "python3"
  },
  "language_info": {
   "codemirror_mode": {
    "name": "ipython",
    "version": 3
   },
   "file_extension": ".py",
   "mimetype": "text/x-python",
   "name": "python",
   "nbconvert_exporter": "python",
   "pygments_lexer": "ipython3",
   "version": "3.12.4"
  }
 },
 "nbformat": 4,
 "nbformat_minor": 2
}
